{
 "cells": [
  {
   "cell_type": "code",
   "execution_count": 4,
   "metadata": {},
   "outputs": [],
   "source": [
    "import sklearn as sk\n",
    "from pyDeepInsight import ImageTransformer, LogScaler\n",
    "import pandas as pd\n",
    "import numpy as np\n",
    "from matplotlib import pyplot as plt\n",
    "import matplotlib.ticker as ticker\n",
    "import seaborn as sns\n",
    "from pyDeepInsight import ImageTransformer, LogScaler\n",
    "from sklearn.model_selection import train_test_split\n",
    "from sklearn.preprocessing import LabelEncoder\n",
    "from sklearn.manifold import TSNE\n",
    "import keras_preprocessing\n",
    "from keras_preprocessing import image\n",
    "from keras_preprocessing.image import ImageDataGenerator\n",
    "from keras import backend as K\n",
    "import tensorflow as tf"
   ]
  },
  {
   "cell_type": "code",
   "execution_count": 5,
   "metadata": {},
   "outputs": [],
   "source": [
    "data = pd.read_csv('./all-cleaned-for-t2i/all-cleaned-for-t2i.csv', low_memory=False, header=0, index_col='Index')"
   ]
  },
  {
   "cell_type": "code",
   "execution_count": 6,
   "metadata": {},
   "outputs": [
    {
     "data": {
      "text/plain": [
       "64"
      ]
     },
     "execution_count": 6,
     "metadata": {},
     "output_type": "execute_result"
    }
   ],
   "source": [
    "len(data.columns)"
   ]
  },
  {
   "cell_type": "code",
   "execution_count": 7,
   "metadata": {},
   "outputs": [],
   "source": [
    "data = data.select_dtypes(exclude=object)"
   ]
  },
  {
   "cell_type": "code",
   "execution_count": 11,
   "metadata": {},
   "outputs": [
    {
     "data": {
      "text/plain": [
       "Index(['Protocol', 'Flow Duration', 'Total Fwd Packet', 'Total Bwd packets',\n",
       "       'Total Length of Fwd Packet', 'Total Length of Bwd Packet',\n",
       "       'Fwd Packet Length Max', 'Fwd Packet Length Min',\n",
       "       'Fwd Packet Length Mean', 'Fwd Packet Length Std',\n",
       "       'Bwd Packet Length Max', 'Bwd Packet Length Min',\n",
       "       'Bwd Packet Length Mean', 'Bwd Packet Length Std', 'Flow Bytes/s',\n",
       "       'Flow Packets/s', 'Flow IAT Mean', 'Flow IAT Std', 'Flow IAT Max',\n",
       "       'Flow IAT Min', 'Fwd IAT Total', 'Fwd IAT Mean', 'Fwd IAT Std',\n",
       "       'Fwd IAT Max', 'Fwd IAT Min', 'Bwd IAT Total', 'Bwd IAT Mean',\n",
       "       'Bwd IAT Std', 'Bwd IAT Max', 'Bwd IAT Min', 'Fwd PSH Flags',\n",
       "       'Fwd Header Length', 'Bwd Header Length', 'Fwd Packets/s',\n",
       "       'Bwd Packets/s', 'Packet Length Min', 'Packet Length Max',\n",
       "       'Packet Length Mean', 'Packet Length Std', 'Packet Length Variance',\n",
       "       'FIN Flag Count', 'SYN Flag Count', 'RST Flag Count', 'PSH Flag Count',\n",
       "       'ACK Flag Count', 'Down/Up Ratio', 'Average Packet Size',\n",
       "       'Fwd Segment Size Avg', 'Bwd Segment Size Avg', 'Bwd Packet/Bulk Avg',\n",
       "       'Bwd Bulk Rate Avg', 'Subflow Fwd Packets', 'Subflow Fwd Bytes',\n",
       "       'Subflow Bwd Bytes', 'FWD Init Win Bytes', 'Bwd Init Win Bytes',\n",
       "       'Fwd Act Data Pkts', 'Fwd Seg Size Min', 'Idle Mean', 'Idle Std',\n",
       "       'Idle Max', 'Idle Min', 'Index', 'Zero1', 'Zero2'],\n",
       "      dtype='object')"
      ]
     },
     "execution_count": 11,
     "metadata": {},
     "output_type": "execute_result"
    }
   ],
   "source": [
    "data.columns"
   ]
  },
  {
   "cell_type": "markdown",
   "metadata": {},
   "source": [
    "### Normalize The data"
   ]
  },
  {
   "cell_type": "code",
   "execution_count": 14,
   "metadata": {},
   "outputs": [],
   "source": [
    "distance_metric = 'cosine'\n",
    "reducer = TSNE(\n",
    "    n_components=2,\n",
    "    metric=distance_metric,\n",
    "    square_distances=True,\n",
    "    n_jobs=-1\n",
    ")"
   ]
  },
  {
   "cell_type": "code",
   "execution_count": 15,
   "metadata": {},
   "outputs": [],
   "source": [
    "ln=LogScaler()\n",
    "data = ln.fit_transform(data)\n",
    "#X_train_norm = ln.fit_transform(X_train)\n",
    "#X_test_norm = ln.transform(X_test)"
   ]
  },
  {
   "cell_type": "markdown",
   "metadata": {},
   "source": [
    "other normalization techniques"
   ]
  },
  {
   "cell_type": "code",
   "execution_count": null,
   "metadata": {},
   "outputs": [],
   "source": [
    "#normalized_df=(data-data.mean())/data.std()\n",
    "#data =(data-data.min())/(data.max()-data.min())"
   ]
  },
  {
   "cell_type": "code",
   "execution_count": 16,
   "metadata": {},
   "outputs": [],
   "source": [
    "pixel_size = (28,28)\n",
    "it = ImageTransformer(\n",
    "    feature_extractor=reducer, \n",
    "    pixels=pixel_size)"
   ]
  },
  {
   "cell_type": "code",
   "execution_count": 19,
   "metadata": {},
   "outputs": [
    {
     "data": {
      "text/html": [
       "<div>\n",
       "<style scoped>\n",
       "    .dataframe tbody tr th:only-of-type {\n",
       "        vertical-align: middle;\n",
       "    }\n",
       "\n",
       "    .dataframe tbody tr th {\n",
       "        vertical-align: top;\n",
       "    }\n",
       "\n",
       "    .dataframe thead th {\n",
       "        text-align: right;\n",
       "    }\n",
       "</style>\n",
       "<table border=\"1\" class=\"dataframe\">\n",
       "  <thead>\n",
       "    <tr style=\"text-align: right;\">\n",
       "      <th></th>\n",
       "      <th>Flow Duration</th>\n",
       "      <th>Total Fwd Packet</th>\n",
       "      <th>Total Bwd packets</th>\n",
       "      <th>Total Length of Fwd Packet</th>\n",
       "      <th>Total Length of Bwd Packet</th>\n",
       "      <th>Fwd Packet Length Max</th>\n",
       "      <th>Fwd Packet Length Min</th>\n",
       "      <th>Fwd Packet Length Mean</th>\n",
       "      <th>Fwd Packet Length Std</th>\n",
       "      <th>Bwd Packet Length Max</th>\n",
       "      <th>...</th>\n",
       "      <th>Subflow Fwd Bytes</th>\n",
       "      <th>Subflow Bwd Bytes</th>\n",
       "      <th>FWD Init Win Bytes</th>\n",
       "      <th>Bwd Init Win Bytes</th>\n",
       "      <th>Fwd Act Data Pkts</th>\n",
       "      <th>Fwd Seg Size Min</th>\n",
       "      <th>Idle Mean</th>\n",
       "      <th>Idle Std</th>\n",
       "      <th>Idle Max</th>\n",
       "      <th>Idle Min</th>\n",
       "    </tr>\n",
       "    <tr>\n",
       "      <th>Index</th>\n",
       "      <th></th>\n",
       "      <th></th>\n",
       "      <th></th>\n",
       "      <th></th>\n",
       "      <th></th>\n",
       "      <th></th>\n",
       "      <th></th>\n",
       "      <th></th>\n",
       "      <th></th>\n",
       "      <th></th>\n",
       "      <th></th>\n",
       "      <th></th>\n",
       "      <th></th>\n",
       "      <th></th>\n",
       "      <th></th>\n",
       "      <th></th>\n",
       "      <th></th>\n",
       "      <th></th>\n",
       "      <th></th>\n",
       "      <th></th>\n",
       "      <th></th>\n",
       "    </tr>\n",
       "  </thead>\n",
       "  <tbody>\n",
       "    <tr>\n",
       "      <th>0-audio-streaming</th>\n",
       "      <td>0.362977</td>\n",
       "      <td>0.282867</td>\n",
       "      <td>0.000000</td>\n",
       "      <td>0.300961</td>\n",
       "      <td>0.000000</td>\n",
       "      <td>0.453726</td>\n",
       "      <td>0.000000</td>\n",
       "      <td>0.526398</td>\n",
       "      <td>0.541772</td>\n",
       "      <td>0.000000</td>\n",
       "      <td>...</td>\n",
       "      <td>0.538015</td>\n",
       "      <td>0.000000</td>\n",
       "      <td>0.614230</td>\n",
       "      <td>0.000000</td>\n",
       "      <td>0.083464</td>\n",
       "      <td>0.939996</td>\n",
       "      <td>0.000000</td>\n",
       "      <td>0.000000</td>\n",
       "      <td>0.000000</td>\n",
       "      <td>0.000000</td>\n",
       "    </tr>\n",
       "    <tr>\n",
       "      <th>1-audio-streaming</th>\n",
       "      <td>0.479479</td>\n",
       "      <td>0.233841</td>\n",
       "      <td>0.085814</td>\n",
       "      <td>0.266251</td>\n",
       "      <td>0.417204</td>\n",
       "      <td>0.449322</td>\n",
       "      <td>0.611713</td>\n",
       "      <td>0.596595</td>\n",
       "      <td>0.000000</td>\n",
       "      <td>0.708776</td>\n",
       "      <td>...</td>\n",
       "      <td>0.521016</td>\n",
       "      <td>0.822793</td>\n",
       "      <td>0.000000</td>\n",
       "      <td>0.000000</td>\n",
       "      <td>0.000000</td>\n",
       "      <td>0.657370</td>\n",
       "      <td>0.000000</td>\n",
       "      <td>0.000000</td>\n",
       "      <td>0.000000</td>\n",
       "      <td>0.000000</td>\n",
       "    </tr>\n",
       "    <tr>\n",
       "      <th>2-audio-streaming</th>\n",
       "      <td>0.479836</td>\n",
       "      <td>0.233841</td>\n",
       "      <td>0.085814</td>\n",
       "      <td>0.250110</td>\n",
       "      <td>0.368761</td>\n",
       "      <td>0.423605</td>\n",
       "      <td>0.578416</td>\n",
       "      <td>0.562472</td>\n",
       "      <td>0.000000</td>\n",
       "      <td>0.633196</td>\n",
       "      <td>...</td>\n",
       "      <td>0.486417</td>\n",
       "      <td>0.727387</td>\n",
       "      <td>0.000000</td>\n",
       "      <td>0.000000</td>\n",
       "      <td>0.000000</td>\n",
       "      <td>0.657370</td>\n",
       "      <td>0.000000</td>\n",
       "      <td>0.000000</td>\n",
       "      <td>0.000000</td>\n",
       "      <td>0.000000</td>\n",
       "    </tr>\n",
       "    <tr>\n",
       "      <th>3-audio-streaming</th>\n",
       "      <td>0.997735</td>\n",
       "      <td>0.728413</td>\n",
       "      <td>0.748874</td>\n",
       "      <td>0.777713</td>\n",
       "      <td>0.842680</td>\n",
       "      <td>0.740855</td>\n",
       "      <td>0.000000</td>\n",
       "      <td>0.764341</td>\n",
       "      <td>0.843028</td>\n",
       "      <td>0.802134</td>\n",
       "      <td>...</td>\n",
       "      <td>0.677112</td>\n",
       "      <td>0.953036</td>\n",
       "      <td>1.000000</td>\n",
       "      <td>1.000000</td>\n",
       "      <td>0.634053</td>\n",
       "      <td>0.847827</td>\n",
       "      <td>0.999948</td>\n",
       "      <td>0.586786</td>\n",
       "      <td>0.999948</td>\n",
       "      <td>0.999948</td>\n",
       "    </tr>\n",
       "    <tr>\n",
       "      <th>4-audio-streaming</th>\n",
       "      <td>0.998664</td>\n",
       "      <td>0.423183</td>\n",
       "      <td>0.368947</td>\n",
       "      <td>0.505809</td>\n",
       "      <td>0.564526</td>\n",
       "      <td>0.757955</td>\n",
       "      <td>0.000000</td>\n",
       "      <td>0.717388</td>\n",
       "      <td>0.855248</td>\n",
       "      <td>0.796909</td>\n",
       "      <td>...</td>\n",
       "      <td>0.640074</td>\n",
       "      <td>0.761729</td>\n",
       "      <td>0.946438</td>\n",
       "      <td>0.624413</td>\n",
       "      <td>0.270277</td>\n",
       "      <td>0.939996</td>\n",
       "      <td>0.999557</td>\n",
       "      <td>0.580042</td>\n",
       "      <td>0.999557</td>\n",
       "      <td>0.999557</td>\n",
       "    </tr>\n",
       "    <tr>\n",
       "      <th>...</th>\n",
       "      <td>...</td>\n",
       "      <td>...</td>\n",
       "      <td>...</td>\n",
       "      <td>...</td>\n",
       "      <td>...</td>\n",
       "      <td>...</td>\n",
       "      <td>...</td>\n",
       "      <td>...</td>\n",
       "      <td>...</td>\n",
       "      <td>...</td>\n",
       "      <td>...</td>\n",
       "      <td>...</td>\n",
       "      <td>...</td>\n",
       "      <td>...</td>\n",
       "      <td>...</td>\n",
       "      <td>...</td>\n",
       "      <td>...</td>\n",
       "      <td>...</td>\n",
       "      <td>...</td>\n",
       "      <td>...</td>\n",
       "      <td>...</td>\n",
       "    </tr>\n",
       "    <tr>\n",
       "      <th>239995-voip</th>\n",
       "      <td>0.999999</td>\n",
       "      <td>0.808359</td>\n",
       "      <td>0.789794</td>\n",
       "      <td>0.785587</td>\n",
       "      <td>0.834191</td>\n",
       "      <td>0.762814</td>\n",
       "      <td>0.000000</td>\n",
       "      <td>0.763029</td>\n",
       "      <td>0.877331</td>\n",
       "      <td>0.794785</td>\n",
       "      <td>...</td>\n",
       "      <td>0.710209</td>\n",
       "      <td>0.814572</td>\n",
       "      <td>1.000000</td>\n",
       "      <td>1.000000</td>\n",
       "      <td>0.676917</td>\n",
       "      <td>0.847827</td>\n",
       "      <td>0.999683</td>\n",
       "      <td>0.587038</td>\n",
       "      <td>0.999683</td>\n",
       "      <td>0.999683</td>\n",
       "    </tr>\n",
       "    <tr>\n",
       "      <th>239996-voip</th>\n",
       "      <td>0.999999</td>\n",
       "      <td>0.825900</td>\n",
       "      <td>0.823101</td>\n",
       "      <td>0.764180</td>\n",
       "      <td>0.774138</td>\n",
       "      <td>0.511276</td>\n",
       "      <td>0.691228</td>\n",
       "      <td>0.672836</td>\n",
       "      <td>0.000000</td>\n",
       "      <td>0.539823</td>\n",
       "      <td>...</td>\n",
       "      <td>0.602648</td>\n",
       "      <td>0.606306</td>\n",
       "      <td>0.000000</td>\n",
       "      <td>0.000000</td>\n",
       "      <td>0.805216</td>\n",
       "      <td>0.657370</td>\n",
       "      <td>0.999604</td>\n",
       "      <td>0.587083</td>\n",
       "      <td>0.999604</td>\n",
       "      <td>0.999604</td>\n",
       "    </tr>\n",
       "    <tr>\n",
       "      <th>239997-voip</th>\n",
       "      <td>0.999997</td>\n",
       "      <td>0.791068</td>\n",
       "      <td>0.801363</td>\n",
       "      <td>0.819148</td>\n",
       "      <td>0.805775</td>\n",
       "      <td>0.765078</td>\n",
       "      <td>0.000000</td>\n",
       "      <td>0.873295</td>\n",
       "      <td>0.802139</td>\n",
       "      <td>0.801955</td>\n",
       "      <td>...</td>\n",
       "      <td>0.803786</td>\n",
       "      <td>0.745881</td>\n",
       "      <td>1.000000</td>\n",
       "      <td>1.000000</td>\n",
       "      <td>0.758149</td>\n",
       "      <td>0.847827</td>\n",
       "      <td>0.999686</td>\n",
       "      <td>0.587082</td>\n",
       "      <td>0.999686</td>\n",
       "      <td>0.999686</td>\n",
       "    </tr>\n",
       "    <tr>\n",
       "      <th>239998-voip</th>\n",
       "      <td>0.987324</td>\n",
       "      <td>0.469916</td>\n",
       "      <td>0.000000</td>\n",
       "      <td>0.490801</td>\n",
       "      <td>0.000000</td>\n",
       "      <td>0.461961</td>\n",
       "      <td>0.628013</td>\n",
       "      <td>0.610970</td>\n",
       "      <td>0.000000</td>\n",
       "      <td>0.000000</td>\n",
       "      <td>...</td>\n",
       "      <td>0.628013</td>\n",
       "      <td>0.000000</td>\n",
       "      <td>0.000000</td>\n",
       "      <td>0.000000</td>\n",
       "      <td>0.397220</td>\n",
       "      <td>0.657370</td>\n",
       "      <td>0.999604</td>\n",
       "      <td>0.576850</td>\n",
       "      <td>0.999604</td>\n",
       "      <td>0.999604</td>\n",
       "    </tr>\n",
       "    <tr>\n",
       "      <th>239999-voip</th>\n",
       "      <td>0.999995</td>\n",
       "      <td>0.827418</td>\n",
       "      <td>0.808294</td>\n",
       "      <td>0.802000</td>\n",
       "      <td>0.849880</td>\n",
       "      <td>0.762814</td>\n",
       "      <td>0.000000</td>\n",
       "      <td>0.768680</td>\n",
       "      <td>0.882433</td>\n",
       "      <td>0.804306</td>\n",
       "      <td>...</td>\n",
       "      <td>0.718624</td>\n",
       "      <td>0.824179</td>\n",
       "      <td>1.000000</td>\n",
       "      <td>1.000000</td>\n",
       "      <td>0.705596</td>\n",
       "      <td>0.847827</td>\n",
       "      <td>0.999683</td>\n",
       "      <td>0.587084</td>\n",
       "      <td>0.999683</td>\n",
       "      <td>0.999683</td>\n",
       "    </tr>\n",
       "  </tbody>\n",
       "</table>\n",
       "<p>240000 rows × 61 columns</p>\n",
       "</div>"
      ],
      "text/plain": [
       "                   Flow Duration  Total Fwd Packet  Total Bwd packets  \\\n",
       "Index                                                                   \n",
       "0-audio-streaming       0.362977          0.282867           0.000000   \n",
       "1-audio-streaming       0.479479          0.233841           0.085814   \n",
       "2-audio-streaming       0.479836          0.233841           0.085814   \n",
       "3-audio-streaming       0.997735          0.728413           0.748874   \n",
       "4-audio-streaming       0.998664          0.423183           0.368947   \n",
       "...                          ...               ...                ...   \n",
       "239995-voip             0.999999          0.808359           0.789794   \n",
       "239996-voip             0.999999          0.825900           0.823101   \n",
       "239997-voip             0.999997          0.791068           0.801363   \n",
       "239998-voip             0.987324          0.469916           0.000000   \n",
       "239999-voip             0.999995          0.827418           0.808294   \n",
       "\n",
       "                   Total Length of Fwd Packet  Total Length of Bwd Packet  \\\n",
       "Index                                                                       \n",
       "0-audio-streaming                    0.300961                    0.000000   \n",
       "1-audio-streaming                    0.266251                    0.417204   \n",
       "2-audio-streaming                    0.250110                    0.368761   \n",
       "3-audio-streaming                    0.777713                    0.842680   \n",
       "4-audio-streaming                    0.505809                    0.564526   \n",
       "...                                       ...                         ...   \n",
       "239995-voip                          0.785587                    0.834191   \n",
       "239996-voip                          0.764180                    0.774138   \n",
       "239997-voip                          0.819148                    0.805775   \n",
       "239998-voip                          0.490801                    0.000000   \n",
       "239999-voip                          0.802000                    0.849880   \n",
       "\n",
       "                   Fwd Packet Length Max  Fwd Packet Length Min  \\\n",
       "Index                                                             \n",
       "0-audio-streaming               0.453726               0.000000   \n",
       "1-audio-streaming               0.449322               0.611713   \n",
       "2-audio-streaming               0.423605               0.578416   \n",
       "3-audio-streaming               0.740855               0.000000   \n",
       "4-audio-streaming               0.757955               0.000000   \n",
       "...                                  ...                    ...   \n",
       "239995-voip                     0.762814               0.000000   \n",
       "239996-voip                     0.511276               0.691228   \n",
       "239997-voip                     0.765078               0.000000   \n",
       "239998-voip                     0.461961               0.628013   \n",
       "239999-voip                     0.762814               0.000000   \n",
       "\n",
       "                   Fwd Packet Length Mean  Fwd Packet Length Std  \\\n",
       "Index                                                              \n",
       "0-audio-streaming                0.526398               0.541772   \n",
       "1-audio-streaming                0.596595               0.000000   \n",
       "2-audio-streaming                0.562472               0.000000   \n",
       "3-audio-streaming                0.764341               0.843028   \n",
       "4-audio-streaming                0.717388               0.855248   \n",
       "...                                   ...                    ...   \n",
       "239995-voip                      0.763029               0.877331   \n",
       "239996-voip                      0.672836               0.000000   \n",
       "239997-voip                      0.873295               0.802139   \n",
       "239998-voip                      0.610970               0.000000   \n",
       "239999-voip                      0.768680               0.882433   \n",
       "\n",
       "                   Bwd Packet Length Max  ...  Subflow Fwd Bytes  \\\n",
       "Index                                     ...                      \n",
       "0-audio-streaming               0.000000  ...           0.538015   \n",
       "1-audio-streaming               0.708776  ...           0.521016   \n",
       "2-audio-streaming               0.633196  ...           0.486417   \n",
       "3-audio-streaming               0.802134  ...           0.677112   \n",
       "4-audio-streaming               0.796909  ...           0.640074   \n",
       "...                                  ...  ...                ...   \n",
       "239995-voip                     0.794785  ...           0.710209   \n",
       "239996-voip                     0.539823  ...           0.602648   \n",
       "239997-voip                     0.801955  ...           0.803786   \n",
       "239998-voip                     0.000000  ...           0.628013   \n",
       "239999-voip                     0.804306  ...           0.718624   \n",
       "\n",
       "                   Subflow Bwd Bytes  FWD Init Win Bytes  Bwd Init Win Bytes  \\\n",
       "Index                                                                          \n",
       "0-audio-streaming           0.000000            0.614230            0.000000   \n",
       "1-audio-streaming           0.822793            0.000000            0.000000   \n",
       "2-audio-streaming           0.727387            0.000000            0.000000   \n",
       "3-audio-streaming           0.953036            1.000000            1.000000   \n",
       "4-audio-streaming           0.761729            0.946438            0.624413   \n",
       "...                              ...                 ...                 ...   \n",
       "239995-voip                 0.814572            1.000000            1.000000   \n",
       "239996-voip                 0.606306            0.000000            0.000000   \n",
       "239997-voip                 0.745881            1.000000            1.000000   \n",
       "239998-voip                 0.000000            0.000000            0.000000   \n",
       "239999-voip                 0.824179            1.000000            1.000000   \n",
       "\n",
       "                   Fwd Act Data Pkts  Fwd Seg Size Min  Idle Mean  Idle Std  \\\n",
       "Index                                                                         \n",
       "0-audio-streaming           0.083464          0.939996   0.000000  0.000000   \n",
       "1-audio-streaming           0.000000          0.657370   0.000000  0.000000   \n",
       "2-audio-streaming           0.000000          0.657370   0.000000  0.000000   \n",
       "3-audio-streaming           0.634053          0.847827   0.999948  0.586786   \n",
       "4-audio-streaming           0.270277          0.939996   0.999557  0.580042   \n",
       "...                              ...               ...        ...       ...   \n",
       "239995-voip                 0.676917          0.847827   0.999683  0.587038   \n",
       "239996-voip                 0.805216          0.657370   0.999604  0.587083   \n",
       "239997-voip                 0.758149          0.847827   0.999686  0.587082   \n",
       "239998-voip                 0.397220          0.657370   0.999604  0.576850   \n",
       "239999-voip                 0.705596          0.847827   0.999683  0.587084   \n",
       "\n",
       "                   Idle Max  Idle Min  \n",
       "Index                                  \n",
       "0-audio-streaming  0.000000  0.000000  \n",
       "1-audio-streaming  0.000000  0.000000  \n",
       "2-audio-streaming  0.000000  0.000000  \n",
       "3-audio-streaming  0.999948  0.999948  \n",
       "4-audio-streaming  0.999557  0.999557  \n",
       "...                     ...       ...  \n",
       "239995-voip        0.999683  0.999683  \n",
       "239996-voip        0.999604  0.999604  \n",
       "239997-voip        0.999686  0.999686  \n",
       "239998-voip        0.999604  0.999604  \n",
       "239999-voip        0.999683  0.999683  \n",
       "\n",
       "[240000 rows x 61 columns]"
      ]
     },
     "execution_count": 19,
     "metadata": {},
     "output_type": "execute_result"
    }
   ],
   "source": [
    "data.loc[:, (data != 0).any(axis=0)]"
   ]
  },
  {
   "cell_type": "code",
   "execution_count": 18,
   "metadata": {},
   "outputs": [],
   "source": [
    "data = data.dropna(axis=1, how = 'all')"
   ]
  },
  {
   "cell_type": "code",
   "execution_count": 20,
   "metadata": {},
   "outputs": [],
   "source": [
    "data.dropna(inplace=True)\n"
   ]
  },
  {
   "cell_type": "code",
   "execution_count": 22,
   "metadata": {},
   "outputs": [
    {
     "data": {
      "text/plain": [
       "0"
      ]
     },
     "execution_count": 22,
     "metadata": {},
     "output_type": "execute_result"
    }
   ],
   "source": [
    "data.isna().sum().sum()\n"
   ]
  },
  {
   "cell_type": "markdown",
   "metadata": {},
   "source": [
    "### Train Image Transformer"
   ]
  },
  {
   "cell_type": "markdown",
   "metadata": {},
   "source": [
    "it.fit does not work with na, but might lose valuable data?"
   ]
  },
  {
   "cell_type": "code",
   "execution_count": 23,
   "metadata": {},
   "outputs": [
    {
     "name": "stderr",
     "output_type": "stream",
     "text": [
      "/home/nalex/anaconda3/lib/python3.8/site-packages/sklearn/manifold/_t_sne.py:780: FutureWarning: The default initialization in TSNE will change from 'random' to 'pca' in 1.2.\n",
      "  warnings.warn(\n",
      "/home/nalex/anaconda3/lib/python3.8/site-packages/sklearn/manifold/_t_sne.py:790: FutureWarning: The default learning rate in TSNE will change from 200.0 to 'auto' in 1.2.\n",
      "  warnings.warn(\n"
     ]
    },
    {
     "data": {
      "image/png": "[encoded data removed]",
      "text/plain": [
       "<Figure size 432x288 with 1 Axes>"
      ]
     },
     "metadata": {
      "needs_background": "light"
     },
     "output_type": "display_data"
    }
   ],
   "source": [
    "it.fit(data, plot=True)\n",
    "image_data = it.transform(data)\n",
    "\n",
    "#data.dropna(inplace=True)\n",
    "#X_train_img = it.transform(X_train_norm)\n",
    "#X_test_img = it.transform(X_test_norm)"
   ]
  },
  {
   "cell_type": "markdown",
   "metadata": {},
   "source": [
    "#### Visualize Images and Image Transformer"
   ]
  },
  {
   "cell_type": "code",
   "execution_count": 29,
   "metadata": {},
   "outputs": [
    {
     "data": {
      "image/png": "[encoded data removed]",
      "text/plain": [
       "<Figure size 720x540 with 2 Axes>"
      ]
     },
     "metadata": {
      "needs_background": "light"
     },
     "output_type": "display_data"
    }
   ],
   "source": [
    "fdm = it.feature_density_matrix()\n",
    "fdm[fdm == 0] = np.nan\n",
    "\n",
    "plt.figure(figsize=(10, 7.5))\n",
    "\n",
    "ax = sns.heatmap(fdm, cmap=\"viridis\", linewidths=0., \n",
    "                 linecolor=\"lightgrey\", square=True)\n",
    "ax.xaxis.set_major_locator(ticker.MultipleLocator(5))\n",
    "ax.yaxis.set_major_locator(ticker.MultipleLocator(5))\n",
    "for _, spine in ax.spines.items():\n",
    "    spine.set_visible(True)\n",
    "_ = plt.title(\"Feature per pixel\")"
   ]
  },
  {
   "cell_type": "code",
   "execution_count": 30,
   "metadata": {},
   "outputs": [
    {
     "data": {
      "text/plain": [
       "<matplotlib.image.AxesImage at 0x7ff5664a70d0>"
      ]
     },
     "execution_count": 30,
     "metadata": {},
     "output_type": "execute_result"
    },
    {
     "data": {
      "image/png": "[encoded data removed]",
      "text/plain": [
       "<Figure size 432x288 with 1 Axes>"
      ]
     },
     "metadata": {
      "needs_background": "light"
     },
     "output_type": "display_data"
    }
   ],
   "source": [
    "fig, ax = plt.subplots()\n",
    "ax.axis('off')\n",
    "ax.imshow(image_data[70000])"
   ]
  },
  {
   "cell_type": "code",
   "execution_count": 31,
   "metadata": {},
   "outputs": [
    {
     "data": {
      "text/plain": [
       "240000"
      ]
     },
     "execution_count": 31,
     "metadata": {},
     "output_type": "execute_result"
    }
   ],
   "source": [
    "len(data)"
   ]
  },
  {
   "cell_type": "markdown",
   "metadata": {},
   "source": [
    "### Save Images"
   ]
  },
  {
   "cell_type": "code",
   "execution_count": 32,
   "metadata": {},
   "outputs": [],
   "source": [
    "from PIL import Image\n",
    "import PIL as PIL\n",
    "import torch\n",
    "import torchvision.transforms as T"
   ]
  },
  {
   "cell_type": "code",
   "execution_count": 33,
   "metadata": {},
   "outputs": [],
   "source": [
    "def tensor_to_image(tensor):\n",
    "    tensor = tensor*255\n",
    "    tensor = np.array(tensor, dtype=np.uint8)\n",
    "    if np.ndim(tensor)>3:\n",
    "        assert tensor.shape[0] == 1\n",
    "        tensor = tensor[0]\n",
    "    return PIL.Image.fromarray(tensor)"
   ]
  },
  {
   "cell_type": "code",
   "execution_count": 37,
   "metadata": {},
   "outputs": [
    {
     "data": {
      "image/png": "[encoded data removed]",
      "text/plain": [
       "<PIL.Image.Image image mode=RGB size=28x28 at 0x7FF5664A5FD0>"
      ]
     },
     "execution_count": 37,
     "metadata": {},
     "output_type": "execute_result"
    }
   ],
   "source": [
    "img = tensor_to_image(image_data[60000])\n",
    "img"
   ]
  },
  {
   "cell_type": "code",
   "execution_count": 19,
   "metadata": {},
   "outputs": [],
   "source": [
    "image_folder = \"darknet_data\"\n",
    "for i in range(0, len(image_data)):\n",
    "    #image = Image.fromarray(image_data[i])\n",
    "    image = tensor_to_image(image_data[i])\n",
    "    image.save(image_folder + '/' + str(data.index[i]) + '_image.png')"
   ]
  }
 ],
 "metadata": {
  "kernelspec": {
   "display_name": "Python 3.8.13 ('base')",
   "language": "python",
   "name": "python3"
  },
  "language_info": {
   "codemirror_mode": {
    "name": "ipython",
    "version": 3
   },
   "file_extension": ".py",
   "mimetype": "text/x-python",
   "name": "python",
   "nbconvert_exporter": "python",
   "pygments_lexer": "ipython3",
   "version": "3.8.13"
  },
  "orig_nbformat": 4,
  "vscode": {
   "interpreter": {
    "hash": "951c65f5905f30db100e56244caf934266d28ae57f06ddf3dd53a44986e6c405"
   }
  }
 },
 "nbformat": 4,
 "nbformat_minor": 2
}
