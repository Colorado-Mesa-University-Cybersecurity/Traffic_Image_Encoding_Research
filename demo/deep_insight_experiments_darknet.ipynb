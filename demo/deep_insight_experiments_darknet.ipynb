{
 "cells": [
  {
   "cell_type": "code",
   "execution_count": 1,
   "metadata": {},
   "outputs": [
    {
     "name": "stderr",
     "output_type": "stream",
     "text": [
      "/home/nalex/anaconda3/lib/python3.8/site-packages/torchvision/io/image.py:11: UserWarning: Failed to load image Python extension: libc10_cuda.so: cannot open shared object file: No such file or directory\n",
      "  warn(f\"Failed to load image Python extension: {e}\")\n"
     ]
    }
   ],
   "source": [
    "import sklearn as sk\n",
    "from pyDeepInsight import ImageTransformer, LogScaler\n",
    "import pandas as pd\n",
    "import numpy as np\n",
    "\n",
    "from matplotlib import pyplot as plt\n",
    "import matplotlib.ticker as ticker\n",
    "import seaborn as sns\n",
    "from sklearn.model_selection import train_test_split"
   ]
  },
  {
   "cell_type": "code",
   "execution_count": 2,
   "metadata": {},
   "outputs": [],
   "source": [
    "from pyDeepInsight import ImageTransformer, LogScaler\n",
    "from sklearn.model_selection import train_test_split\n",
    "from sklearn.preprocessing import LabelEncoder\n",
    "from sklearn.manifold import TSNE\n",
    "#from sklearn.manifold import PCA\n",
    "import pandas as pd\n",
    "import numpy as np"
   ]
  },
  {
   "cell_type": "code",
   "execution_count": 3,
   "metadata": {},
   "outputs": [],
   "source": [
    "import keras_preprocessing\n",
    "from keras_preprocessing import image\n",
    "from keras_preprocessing.image import ImageDataGenerator\n",
    "from keras import backend as K\n",
    "import tensorflow as tf"
   ]
  },
  {
   "cell_type": "code",
   "execution_count": 5,
   "metadata": {},
   "outputs": [],
   "source": [
    "# data = pd.read_csv('../cmu-syn-cleaned-for-t2i/cmu-syn-cleaned-for-t2i.csv')"
   ]
  },
  {
   "cell_type": "code",
   "execution_count": 22,
   "metadata": {},
   "outputs": [],
   "source": [
    "data2 = pd.read_csv('../CMU_SynTraffic_2022/CMU_SynTraffic_2022.csv')"
   ]
  },
  {
   "cell_type": "code",
   "execution_count": 26,
   "metadata": {},
   "outputs": [
    {
     "data": {
      "text/plain": [
       "array(['audio-streaming', 'browsing', 'chat', 'file-transfer', 'email',\n",
       "       'p2p', 'video-streaming', 'voip'], dtype=object)"
      ]
     },
     "execution_count": 26,
     "metadata": {},
     "output_type": "execute_result"
    }
   ],
   "source": [
    "data2['Application Type'].unique()"
   ]
  },
  {
   "cell_type": "code",
   "execution_count": 4,
   "metadata": {},
   "outputs": [],
   "source": [
    "data = pd.read_csv('../cmu-syn-cleaned-for-t2i/cmu-syn-cleaned-for-t2i.csv', low_memory=False, header=0, index_col='Index')"
   ]
  },
  {
   "cell_type": "code",
   "execution_count": 9,
   "metadata": {},
   "outputs": [],
   "source": [
    "#data['Application Type'].value_counts"
   ]
  },
  {
   "cell_type": "code",
   "execution_count": 20,
   "metadata": {},
   "outputs": [],
   "source": [
    "Y = data['Application Type']\n",
    "data = data.loc[:,data.columns != 'Application Type']"
   ]
  },
  {
   "cell_type": "code",
   "execution_count": 7,
   "metadata": {},
   "outputs": [
    {
     "data": {
      "text/plain": [
       "65"
      ]
     },
     "execution_count": 7,
     "metadata": {},
     "output_type": "execute_result"
    }
   ],
   "source": [
    "len(data.columns)"
   ]
  },
  {
   "cell_type": "code",
   "execution_count": 5,
   "metadata": {},
   "outputs": [],
   "source": [
    "data = data.select_dtypes(exclude=object)"
   ]
  },
  {
   "cell_type": "code",
   "execution_count": 11,
   "metadata": {},
   "outputs": [
    {
     "data": {
      "text/plain": [
       "Index(['Protocol', 'Flow Duration', 'Total Fwd Packet', 'Total Bwd packets',\n",
       "       'Total Length of Fwd Packet', 'Total Length of Bwd Packet',\n",
       "       'Fwd Packet Length Max', 'Fwd Packet Length Min',\n",
       "       'Fwd Packet Length Mean', 'Fwd Packet Length Std',\n",
       "       'Bwd Packet Length Max', 'Bwd Packet Length Min',\n",
       "       'Bwd Packet Length Mean', 'Bwd Packet Length Std', 'Flow Bytes/s',\n",
       "       'Flow Packets/s', 'Flow IAT Mean', 'Flow IAT Std', 'Flow IAT Max',\n",
       "       'Flow IAT Min', 'Fwd IAT Total', 'Fwd IAT Mean', 'Fwd IAT Std',\n",
       "       'Fwd IAT Max', 'Fwd IAT Min', 'Bwd IAT Total', 'Bwd IAT Mean',\n",
       "       'Bwd IAT Std', 'Bwd IAT Max', 'Bwd IAT Min', 'Fwd PSH Flags',\n",
       "       'Fwd Header Length', 'Bwd Header Length', 'Fwd Packets/s',\n",
       "       'Bwd Packets/s', 'Packet Length Min', 'Packet Length Max',\n",
       "       'Packet Length Mean', 'Packet Length Std', 'Packet Length Variance',\n",
       "       'FIN Flag Count', 'SYN Flag Count', 'RST Flag Count', 'PSH Flag Count',\n",
       "       'ACK Flag Count', 'Down/Up Ratio', 'Average Packet Size',\n",
       "       'Fwd Segment Size Avg', 'Bwd Segment Size Avg', 'Bwd Packet/Bulk Avg',\n",
       "       'Bwd Bulk Rate Avg', 'Subflow Fwd Packets', 'Subflow Fwd Bytes',\n",
       "       'Subflow Bwd Bytes', 'FWD Init Win Bytes', 'Bwd Init Win Bytes',\n",
       "       'Fwd Act Data Pkts', 'Fwd Seg Size Min', 'Idle Mean', 'Idle Std',\n",
       "       'Idle Max', 'Idle Min', 'Index', 'Zero1', 'Zero2'],\n",
       "      dtype='object')"
      ]
     },
     "execution_count": 11,
     "metadata": {},
     "output_type": "execute_result"
    }
   ],
   "source": [
    "data.columns"
   ]
  },
  {
   "cell_type": "code",
   "execution_count": 6,
   "metadata": {},
   "outputs": [],
   "source": [
    "distance_metric = 'cosine'\n",
    "reducer = TSNE(\n",
    "    n_components=2,\n",
    "    metric=distance_metric,\n",
    "    square_distances=True,\n",
    "    n_jobs=-1\n",
    ")"
   ]
  },
  {
   "cell_type": "code",
   "execution_count": 7,
   "metadata": {},
   "outputs": [],
   "source": [
    "ln=LogScaler()\n",
    "data = ln.fit_transform(data)\n",
    "#X_train_norm = ln.fit_transform(X_train)\n",
    "#X_test_norm = ln.transform(X_test)"
   ]
  },
  {
   "cell_type": "code",
   "execution_count": 8,
   "metadata": {},
   "outputs": [],
   "source": [
    "pixel_size = (28,28)\n",
    "it = ImageTransformer(\n",
    "    feature_extractor=reducer, \n",
    "    pixels=pixel_size)"
   ]
  },
  {
   "cell_type": "code",
   "execution_count": 9,
   "metadata": {},
   "outputs": [
    {
     "data": {
      "text/html": [
       "<div>\n",
       "<style scoped>\n",
       "    .dataframe tbody tr th:only-of-type {\n",
       "        vertical-align: middle;\n",
       "    }\n",
       "\n",
       "    .dataframe tbody tr th {\n",
       "        vertical-align: top;\n",
       "    }\n",
       "\n",
       "    .dataframe thead th {\n",
       "        text-align: right;\n",
       "    }\n",
       "</style>\n",
       "<table border=\"1\" class=\"dataframe\">\n",
       "  <thead>\n",
       "    <tr style=\"text-align: right;\">\n",
       "      <th></th>\n",
       "      <th>Unnamed: 0</th>\n",
       "      <th>Protocol</th>\n",
       "      <th>Flow Duration</th>\n",
       "      <th>Total Fwd Packet</th>\n",
       "      <th>Total Bwd packets</th>\n",
       "      <th>Total Length of Fwd Packet</th>\n",
       "      <th>Total Length of Bwd Packet</th>\n",
       "      <th>Fwd Packet Length Max</th>\n",
       "      <th>Fwd Packet Length Min</th>\n",
       "      <th>Fwd Packet Length Mean</th>\n",
       "      <th>...</th>\n",
       "      <th>FWD Init Win Bytes</th>\n",
       "      <th>Bwd Init Win Bytes</th>\n",
       "      <th>Fwd Act Data Pkts</th>\n",
       "      <th>Fwd Seg Size Min</th>\n",
       "      <th>Idle Mean</th>\n",
       "      <th>Idle Std</th>\n",
       "      <th>Idle Max</th>\n",
       "      <th>Idle Min</th>\n",
       "      <th>Zero1</th>\n",
       "      <th>Zero2</th>\n",
       "    </tr>\n",
       "    <tr>\n",
       "      <th>Index</th>\n",
       "      <th></th>\n",
       "      <th></th>\n",
       "      <th></th>\n",
       "      <th></th>\n",
       "      <th></th>\n",
       "      <th></th>\n",
       "      <th></th>\n",
       "      <th></th>\n",
       "      <th></th>\n",
       "      <th></th>\n",
       "      <th></th>\n",
       "      <th></th>\n",
       "      <th></th>\n",
       "      <th></th>\n",
       "      <th></th>\n",
       "      <th></th>\n",
       "      <th></th>\n",
       "      <th></th>\n",
       "      <th></th>\n",
       "      <th></th>\n",
       "      <th></th>\n",
       "    </tr>\n",
       "  </thead>\n",
       "  <tbody>\n",
       "    <tr>\n",
       "      <th>0-audio-streaming</th>\n",
       "      <td>0.000000</td>\n",
       "      <td>0.673239</td>\n",
       "      <td>0.999724</td>\n",
       "      <td>0.570707</td>\n",
       "      <td>0.673283</td>\n",
       "      <td>0.607776</td>\n",
       "      <td>0.796393</td>\n",
       "      <td>0.604631</td>\n",
       "      <td>0.000000</td>\n",
       "      <td>0.641171</td>\n",
       "      <td>...</td>\n",
       "      <td>1.000000</td>\n",
       "      <td>1.000000</td>\n",
       "      <td>0.439765</td>\n",
       "      <td>0.799788</td>\n",
       "      <td>0.999928</td>\n",
       "      <td>0.503986</td>\n",
       "      <td>0.999928</td>\n",
       "      <td>0.999928</td>\n",
       "      <td>NaN</td>\n",
       "      <td>NaN</td>\n",
       "    </tr>\n",
       "    <tr>\n",
       "      <th>1-audio-streaming</th>\n",
       "      <td>0.046865</td>\n",
       "      <td>0.673239</td>\n",
       "      <td>0.999890</td>\n",
       "      <td>0.595218</td>\n",
       "      <td>0.693117</td>\n",
       "      <td>0.641639</td>\n",
       "      <td>0.805962</td>\n",
       "      <td>0.699462</td>\n",
       "      <td>0.000000</td>\n",
       "      <td>0.687770</td>\n",
       "      <td>...</td>\n",
       "      <td>1.000000</td>\n",
       "      <td>1.000000</td>\n",
       "      <td>0.488070</td>\n",
       "      <td>0.799788</td>\n",
       "      <td>0.999928</td>\n",
       "      <td>0.502991</td>\n",
       "      <td>0.999928</td>\n",
       "      <td>0.999928</td>\n",
       "      <td>NaN</td>\n",
       "      <td>NaN</td>\n",
       "    </tr>\n",
       "    <tr>\n",
       "      <th>2-audio-streaming</th>\n",
       "      <td>0.074280</td>\n",
       "      <td>0.673239</td>\n",
       "      <td>0.999509</td>\n",
       "      <td>0.560772</td>\n",
       "      <td>0.655738</td>\n",
       "      <td>0.599515</td>\n",
       "      <td>0.785477</td>\n",
       "      <td>0.604631</td>\n",
       "      <td>0.000000</td>\n",
       "      <td>0.635964</td>\n",
       "      <td>...</td>\n",
       "      <td>1.000000</td>\n",
       "      <td>1.000000</td>\n",
       "      <td>0.426434</td>\n",
       "      <td>0.799788</td>\n",
       "      <td>0.999928</td>\n",
       "      <td>0.500815</td>\n",
       "      <td>0.999928</td>\n",
       "      <td>0.999928</td>\n",
       "      <td>NaN</td>\n",
       "      <td>NaN</td>\n",
       "    </tr>\n",
       "    <tr>\n",
       "      <th>3-audio-streaming</th>\n",
       "      <td>0.093730</td>\n",
       "      <td>0.673239</td>\n",
       "      <td>0.726444</td>\n",
       "      <td>0.119060</td>\n",
       "      <td>0.097137</td>\n",
       "      <td>0.335375</td>\n",
       "      <td>0.340996</td>\n",
       "      <td>0.604631</td>\n",
       "      <td>0.000000</td>\n",
       "      <td>0.752024</td>\n",
       "      <td>...</td>\n",
       "      <td>0.958106</td>\n",
       "      <td>1.000000</td>\n",
       "      <td>0.000000</td>\n",
       "      <td>0.799788</td>\n",
       "      <td>0.999928</td>\n",
       "      <td>0.380895</td>\n",
       "      <td>0.999928</td>\n",
       "      <td>0.999928</td>\n",
       "      <td>NaN</td>\n",
       "      <td>NaN</td>\n",
       "    </tr>\n",
       "    <tr>\n",
       "      <th>4-audio-streaming</th>\n",
       "      <td>0.108818</td>\n",
       "      <td>0.673239</td>\n",
       "      <td>0.640409</td>\n",
       "      <td>0.119060</td>\n",
       "      <td>0.097137</td>\n",
       "      <td>0.337486</td>\n",
       "      <td>0.343143</td>\n",
       "      <td>0.608437</td>\n",
       "      <td>0.000000</td>\n",
       "      <td>0.757331</td>\n",
       "      <td>...</td>\n",
       "      <td>0.958106</td>\n",
       "      <td>1.000000</td>\n",
       "      <td>0.000000</td>\n",
       "      <td>0.799788</td>\n",
       "      <td>0.999928</td>\n",
       "      <td>0.334524</td>\n",
       "      <td>0.999928</td>\n",
       "      <td>0.999928</td>\n",
       "      <td>NaN</td>\n",
       "      <td>NaN</td>\n",
       "    </tr>\n",
       "    <tr>\n",
       "      <th>...</th>\n",
       "      <td>...</td>\n",
       "      <td>...</td>\n",
       "      <td>...</td>\n",
       "      <td>...</td>\n",
       "      <td>...</td>\n",
       "      <td>...</td>\n",
       "      <td>...</td>\n",
       "      <td>...</td>\n",
       "      <td>...</td>\n",
       "      <td>...</td>\n",
       "      <td>...</td>\n",
       "      <td>...</td>\n",
       "      <td>...</td>\n",
       "      <td>...</td>\n",
       "      <td>...</td>\n",
       "      <td>...</td>\n",
       "      <td>...</td>\n",
       "      <td>...</td>\n",
       "      <td>...</td>\n",
       "      <td>...</td>\n",
       "      <td>...</td>\n",
       "    </tr>\n",
       "    <tr>\n",
       "      <th>550462-file-transfer</th>\n",
       "      <td>1.000000</td>\n",
       "      <td>0.673239</td>\n",
       "      <td>0.208095</td>\n",
       "      <td>0.094353</td>\n",
       "      <td>0.000000</td>\n",
       "      <td>0.226958</td>\n",
       "      <td>0.000000</td>\n",
       "      <td>0.402162</td>\n",
       "      <td>0.581202</td>\n",
       "      <td>0.563373</td>\n",
       "      <td>...</td>\n",
       "      <td>0.526642</td>\n",
       "      <td>0.526642</td>\n",
       "      <td>0.000000</td>\n",
       "      <td>0.910440</td>\n",
       "      <td>0.000000</td>\n",
       "      <td>0.000000</td>\n",
       "      <td>0.000000</td>\n",
       "      <td>0.000000</td>\n",
       "      <td>NaN</td>\n",
       "      <td>NaN</td>\n",
       "    </tr>\n",
       "    <tr>\n",
       "      <th>550463-voip</th>\n",
       "      <td>1.000000</td>\n",
       "      <td>1.000000</td>\n",
       "      <td>0.694851</td>\n",
       "      <td>0.119060</td>\n",
       "      <td>0.000000</td>\n",
       "      <td>0.202678</td>\n",
       "      <td>0.000000</td>\n",
       "      <td>0.300974</td>\n",
       "      <td>0.434966</td>\n",
       "      <td>0.420492</td>\n",
       "      <td>...</td>\n",
       "      <td>0.000000</td>\n",
       "      <td>0.000000</td>\n",
       "      <td>0.059559</td>\n",
       "      <td>0.577205</td>\n",
       "      <td>0.000000</td>\n",
       "      <td>0.000000</td>\n",
       "      <td>0.000000</td>\n",
       "      <td>0.000000</td>\n",
       "      <td>NaN</td>\n",
       "      <td>NaN</td>\n",
       "    </tr>\n",
       "    <tr>\n",
       "      <th>550464-audio-streaming</th>\n",
       "      <td>1.000000</td>\n",
       "      <td>1.000000</td>\n",
       "      <td>0.352152</td>\n",
       "      <td>0.094353</td>\n",
       "      <td>0.061286</td>\n",
       "      <td>0.187754</td>\n",
       "      <td>0.282898</td>\n",
       "      <td>0.338493</td>\n",
       "      <td>0.489188</td>\n",
       "      <td>0.472910</td>\n",
       "      <td>...</td>\n",
       "      <td>0.000000</td>\n",
       "      <td>0.000000</td>\n",
       "      <td>0.000000</td>\n",
       "      <td>0.577205</td>\n",
       "      <td>0.000000</td>\n",
       "      <td>0.000000</td>\n",
       "      <td>0.000000</td>\n",
       "      <td>0.000000</td>\n",
       "      <td>NaN</td>\n",
       "      <td>NaN</td>\n",
       "    </tr>\n",
       "    <tr>\n",
       "      <th>550465-audio-streaming</th>\n",
       "      <td>1.000000</td>\n",
       "      <td>1.000000</td>\n",
       "      <td>0.349475</td>\n",
       "      <td>0.094353</td>\n",
       "      <td>0.061286</td>\n",
       "      <td>0.193676</td>\n",
       "      <td>0.290489</td>\n",
       "      <td>0.349169</td>\n",
       "      <td>0.504618</td>\n",
       "      <td>0.487826</td>\n",
       "      <td>...</td>\n",
       "      <td>0.000000</td>\n",
       "      <td>0.000000</td>\n",
       "      <td>0.000000</td>\n",
       "      <td>0.577205</td>\n",
       "      <td>0.000000</td>\n",
       "      <td>0.000000</td>\n",
       "      <td>0.000000</td>\n",
       "      <td>0.000000</td>\n",
       "      <td>NaN</td>\n",
       "      <td>NaN</td>\n",
       "    </tr>\n",
       "    <tr>\n",
       "      <th>550466-file-transfer</th>\n",
       "      <td>1.000000</td>\n",
       "      <td>0.673239</td>\n",
       "      <td>0.841922</td>\n",
       "      <td>0.178591</td>\n",
       "      <td>0.000000</td>\n",
       "      <td>0.273132</td>\n",
       "      <td>0.000000</td>\n",
       "      <td>0.323224</td>\n",
       "      <td>0.467122</td>\n",
       "      <td>0.451578</td>\n",
       "      <td>...</td>\n",
       "      <td>0.000000</td>\n",
       "      <td>0.000000</td>\n",
       "      <td>0.153957</td>\n",
       "      <td>0.577205</td>\n",
       "      <td>0.999476</td>\n",
       "      <td>0.417960</td>\n",
       "      <td>0.999476</td>\n",
       "      <td>0.999476</td>\n",
       "      <td>NaN</td>\n",
       "      <td>NaN</td>\n",
       "    </tr>\n",
       "  </tbody>\n",
       "</table>\n",
       "<p>550467 rows × 65 columns</p>\n",
       "</div>"
      ],
      "text/plain": [
       "                        Unnamed: 0  Protocol  Flow Duration  Total Fwd Packet  \\\n",
       "Index                                                                           \n",
       "0-audio-streaming         0.000000  0.673239       0.999724          0.570707   \n",
       "1-audio-streaming         0.046865  0.673239       0.999890          0.595218   \n",
       "2-audio-streaming         0.074280  0.673239       0.999509          0.560772   \n",
       "3-audio-streaming         0.093730  0.673239       0.726444          0.119060   \n",
       "4-audio-streaming         0.108818  0.673239       0.640409          0.119060   \n",
       "...                            ...       ...            ...               ...   \n",
       "550462-file-transfer      1.000000  0.673239       0.208095          0.094353   \n",
       "550463-voip               1.000000  1.000000       0.694851          0.119060   \n",
       "550464-audio-streaming    1.000000  1.000000       0.352152          0.094353   \n",
       "550465-audio-streaming    1.000000  1.000000       0.349475          0.094353   \n",
       "550466-file-transfer      1.000000  0.673239       0.841922          0.178591   \n",
       "\n",
       "                        Total Bwd packets  Total Length of Fwd Packet  \\\n",
       "Index                                                                   \n",
       "0-audio-streaming                0.673283                    0.607776   \n",
       "1-audio-streaming                0.693117                    0.641639   \n",
       "2-audio-streaming                0.655738                    0.599515   \n",
       "3-audio-streaming                0.097137                    0.335375   \n",
       "4-audio-streaming                0.097137                    0.337486   \n",
       "...                                   ...                         ...   \n",
       "550462-file-transfer             0.000000                    0.226958   \n",
       "550463-voip                      0.000000                    0.202678   \n",
       "550464-audio-streaming           0.061286                    0.187754   \n",
       "550465-audio-streaming           0.061286                    0.193676   \n",
       "550466-file-transfer             0.000000                    0.273132   \n",
       "\n",
       "                        Total Length of Bwd Packet  Fwd Packet Length Max  \\\n",
       "Index                                                                       \n",
       "0-audio-streaming                         0.796393               0.604631   \n",
       "1-audio-streaming                         0.805962               0.699462   \n",
       "2-audio-streaming                         0.785477               0.604631   \n",
       "3-audio-streaming                         0.340996               0.604631   \n",
       "4-audio-streaming                         0.343143               0.608437   \n",
       "...                                            ...                    ...   \n",
       "550462-file-transfer                      0.000000               0.402162   \n",
       "550463-voip                               0.000000               0.300974   \n",
       "550464-audio-streaming                    0.282898               0.338493   \n",
       "550465-audio-streaming                    0.290489               0.349169   \n",
       "550466-file-transfer                      0.000000               0.323224   \n",
       "\n",
       "                        Fwd Packet Length Min  Fwd Packet Length Mean  ...  \\\n",
       "Index                                                                  ...   \n",
       "0-audio-streaming                    0.000000                0.641171  ...   \n",
       "1-audio-streaming                    0.000000                0.687770  ...   \n",
       "2-audio-streaming                    0.000000                0.635964  ...   \n",
       "3-audio-streaming                    0.000000                0.752024  ...   \n",
       "4-audio-streaming                    0.000000                0.757331  ...   \n",
       "...                                       ...                     ...  ...   \n",
       "550462-file-transfer                 0.581202                0.563373  ...   \n",
       "550463-voip                          0.434966                0.420492  ...   \n",
       "550464-audio-streaming               0.489188                0.472910  ...   \n",
       "550465-audio-streaming               0.504618                0.487826  ...   \n",
       "550466-file-transfer                 0.467122                0.451578  ...   \n",
       "\n",
       "                        FWD Init Win Bytes  Bwd Init Win Bytes  \\\n",
       "Index                                                            \n",
       "0-audio-streaming                 1.000000            1.000000   \n",
       "1-audio-streaming                 1.000000            1.000000   \n",
       "2-audio-streaming                 1.000000            1.000000   \n",
       "3-audio-streaming                 0.958106            1.000000   \n",
       "4-audio-streaming                 0.958106            1.000000   \n",
       "...                                    ...                 ...   \n",
       "550462-file-transfer              0.526642            0.526642   \n",
       "550463-voip                       0.000000            0.000000   \n",
       "550464-audio-streaming            0.000000            0.000000   \n",
       "550465-audio-streaming            0.000000            0.000000   \n",
       "550466-file-transfer              0.000000            0.000000   \n",
       "\n",
       "                        Fwd Act Data Pkts  Fwd Seg Size Min  Idle Mean  \\\n",
       "Index                                                                    \n",
       "0-audio-streaming                0.439765          0.799788   0.999928   \n",
       "1-audio-streaming                0.488070          0.799788   0.999928   \n",
       "2-audio-streaming                0.426434          0.799788   0.999928   \n",
       "3-audio-streaming                0.000000          0.799788   0.999928   \n",
       "4-audio-streaming                0.000000          0.799788   0.999928   \n",
       "...                                   ...               ...        ...   \n",
       "550462-file-transfer             0.000000          0.910440   0.000000   \n",
       "550463-voip                      0.059559          0.577205   0.000000   \n",
       "550464-audio-streaming           0.000000          0.577205   0.000000   \n",
       "550465-audio-streaming           0.000000          0.577205   0.000000   \n",
       "550466-file-transfer             0.153957          0.577205   0.999476   \n",
       "\n",
       "                        Idle Std  Idle Max  Idle Min  Zero1  Zero2  \n",
       "Index                                                               \n",
       "0-audio-streaming       0.503986  0.999928  0.999928    NaN    NaN  \n",
       "1-audio-streaming       0.502991  0.999928  0.999928    NaN    NaN  \n",
       "2-audio-streaming       0.500815  0.999928  0.999928    NaN    NaN  \n",
       "3-audio-streaming       0.380895  0.999928  0.999928    NaN    NaN  \n",
       "4-audio-streaming       0.334524  0.999928  0.999928    NaN    NaN  \n",
       "...                          ...       ...       ...    ...    ...  \n",
       "550462-file-transfer    0.000000  0.000000  0.000000    NaN    NaN  \n",
       "550463-voip             0.000000  0.000000  0.000000    NaN    NaN  \n",
       "550464-audio-streaming  0.000000  0.000000  0.000000    NaN    NaN  \n",
       "550465-audio-streaming  0.000000  0.000000  0.000000    NaN    NaN  \n",
       "550466-file-transfer    0.417960  0.999476  0.999476    NaN    NaN  \n",
       "\n",
       "[550467 rows x 65 columns]"
      ]
     },
     "execution_count": 9,
     "metadata": {},
     "output_type": "execute_result"
    }
   ],
   "source": [
    "data.loc[:, (data != 0).any(axis=0)]"
   ]
  },
  {
   "cell_type": "code",
   "execution_count": 10,
   "metadata": {},
   "outputs": [],
   "source": [
    "data = data.dropna(axis=1, how = 'all')"
   ]
  },
  {
   "cell_type": "code",
   "execution_count": 11,
   "metadata": {},
   "outputs": [],
   "source": [
    "data.dropna(inplace=True)\n",
    "#data.dropna(how='all',axis=0, inplace=True)\n"
   ]
  },
  {
   "cell_type": "code",
   "execution_count": 12,
   "metadata": {},
   "outputs": [
    {
     "data": {
      "text/plain": [
       "0"
      ]
     },
     "execution_count": 12,
     "metadata": {},
     "output_type": "execute_result"
    }
   ],
   "source": [
    "data.isna().sum()\n"
   ]
  },
  {
   "cell_type": "markdown",
   "metadata": {},
   "source": [
    "it.fit does not work with na, but might lose valuable data?"
   ]
  },
  {
   "cell_type": "code",
   "execution_count": 13,
   "metadata": {},
   "outputs": [
    {
     "name": "stderr",
     "output_type": "stream",
     "text": [
      "/home/nalex/anaconda3/lib/python3.8/site-packages/sklearn/manifold/_t_sne.py:780: FutureWarning: The default initialization in TSNE will change from 'random' to 'pca' in 1.2.\n",
      "  warnings.warn(\n",
      "/home/nalex/anaconda3/lib/python3.8/site-packages/sklearn/manifold/_t_sne.py:790: FutureWarning: The default learning rate in TSNE will change from 200.0 to 'auto' in 1.2.\n",
      "  warnings.warn(\n"
     ]
    },
    {
     "data": {
      "image/png": "[encoded data removed]",
      "text/plain": [
       "<Figure size 432x288 with 1 Axes>"
      ]
     },
     "metadata": {
      "needs_background": "light"
     },
     "output_type": "display_data"
    }
   ],
   "source": [
    "it.fit(data, plot=True)\n",
    "image_data = it.transform(data)\n",
    "\n",
    "#data.dropna(inplace=True)\n",
    "#X_train_img = it.transform(X_train_norm)\n",
    "#X_test_img = it.transform(X_test_norm)"
   ]
  },
  {
   "cell_type": "code",
   "execution_count": 14,
   "metadata": {},
   "outputs": [
    {
     "data": {
      "image/png": "[encoded data removed]",
      "text/plain": [
       "<Figure size 720x540 with 2 Axes>"
      ]
     },
     "metadata": {
      "needs_background": "light"
     },
     "output_type": "display_data"
    }
   ],
   "source": [
    "import matplotlib.pyplot as plt\n",
    "import matplotlib.ticker as ticker\n",
    "import seaborn as sns\n",
    "\n",
    "fdm = it.feature_density_matrix()\n",
    "fdm[fdm == 0] = np.nan\n",
    "\n",
    "plt.figure(figsize=(10, 7.5))\n",
    "\n",
    "ax = sns.heatmap(fdm, cmap=\"viridis\", linewidths=0., \n",
    "                 linecolor=\"lightgrey\", square=True)\n",
    "ax.xaxis.set_major_locator(ticker.MultipleLocator(5))\n",
    "ax.yaxis.set_major_locator(ticker.MultipleLocator(5))\n",
    "for _, spine in ax.spines.items():\n",
    "    spine.set_visible(True)\n",
    "_ = plt.title(\"Feature per pixel\")"
   ]
  },
  {
   "cell_type": "code",
   "execution_count": 15,
   "metadata": {},
   "outputs": [
    {
     "data": {
      "text/plain": [
       "<matplotlib.image.AxesImage at 0x7f274a8459a0>"
      ]
     },
     "execution_count": 15,
     "metadata": {},
     "output_type": "execute_result"
    },
    {
     "data": {
      "image/png": "[encoded data removed]",
      "text/plain": [
       "<Figure size 432x288 with 1 Axes>"
      ]
     },
     "metadata": {
      "needs_background": "light"
     },
     "output_type": "display_data"
    }
   ],
   "source": [
    "fig, ax = plt.subplots()\n",
    "ax.axis('off')\n",
    "ax.imshow(image_data[70000])"
   ]
  },
  {
   "cell_type": "code",
   "execution_count": 129,
   "metadata": {},
   "outputs": [
    {
     "data": {
      "text/plain": [
       "609480"
      ]
     },
     "execution_count": 129,
     "metadata": {},
     "output_type": "execute_result"
    }
   ],
   "source": [
    "len(data)"
   ]
  },
  {
   "cell_type": "code",
   "execution_count": 16,
   "metadata": {},
   "outputs": [],
   "source": [
    "from PIL import Image\n",
    "import PIL as PIL\n",
    "import torch\n",
    "\n",
    "import torchvision.transforms as T\n",
    "\n"
   ]
  },
  {
   "cell_type": "code",
   "execution_count": 57,
   "metadata": {},
   "outputs": [],
   "source": [
    "#transform = T.ToPILImage()\n",
    "#tensor = torch.rand(3,32,32)\n"
   ]
  },
  {
   "cell_type": "code",
   "execution_count": 58,
   "metadata": {},
   "outputs": [
    {
     "name": "stderr",
     "output_type": "stream",
     "text": [
      "/tmp/ipykernel_1088/3874295071.py:1: DeprecationWarning: `np.int` is a deprecated alias for the builtin `int`. To silence this warning, use `int` by itself. Doing this will not modify any behavior and is safe. When replacing `np.int`, you may wish to use e.g. `np.int64` or `np.int32` to specify the precision. If you wish to review your current use, check the release note link for additional information.\n",
      "Deprecated in NumPy 1.20; for more details and guidance: https://numpy.org/devdocs/release/1.20.0-notes.html#deprecations\n",
      "  image_data[0] = np.asarray(image_data[0]).astype(np.int).reshape(32,32, 3)\n"
     ]
    }
   ],
   "source": [
    "#image_data[0] = np.asarray(image_data[0]).astype(np.int).reshape(32,32, 3)\n"
   ]
  },
  {
   "cell_type": "code",
   "execution_count": 18,
   "metadata": {},
   "outputs": [],
   "source": [
    "def tensor_to_image(tensor):\n",
    "    tensor = tensor*255\n",
    "    tensor = np.array(tensor, dtype=np.uint8)\n",
    "    if np.ndim(tensor)>3:\n",
    "        assert tensor.shape[0] == 1\n",
    "        tensor = tensor[0]\n",
    "    return PIL.Image.fromarray(tensor)"
   ]
  },
  {
   "cell_type": "code",
   "execution_count": 89,
   "metadata": {},
   "outputs": [],
   "source": [
    "img = tensor_to_image(image_data[600000])"
   ]
  },
  {
   "cell_type": "code",
   "execution_count": 90,
   "metadata": {},
   "outputs": [
    {
     "data": {
      "image/png": "[encoded data removed]",
      "text/plain": [
       "<PIL.Image.Image image mode=RGB size=32x32 at 0x7F08AB4933A0>"
      ]
     },
     "execution_count": 90,
     "metadata": {},
     "output_type": "execute_result"
    }
   ],
   "source": [
    "img"
   ]
  },
  {
   "cell_type": "code",
   "execution_count": 28,
   "metadata": {},
   "outputs": [
    {
     "data": {
      "text/plain": [
       "'0-DNS'"
      ]
     },
     "execution_count": 28,
     "metadata": {},
     "output_type": "execute_result"
    }
   ],
   "source": [
    "data.index[0]"
   ]
  },
  {
   "cell_type": "code",
   "execution_count": 21,
   "metadata": {},
   "outputs": [
    {
     "data": {
      "text/plain": [
       "<bound method IndexOpsMixin.value_counts of Index(['0-audio-streaming', '1-audio-streaming', '2-audio-streaming',\n",
       "       '3-audio-streaming', '4-audio-streaming', '5-audio-streaming',\n",
       "       '6-audio-streaming', '7-audio-streaming', '8-audio-streaming',\n",
       "       '9-audio-streaming',\n",
       "       ...\n",
       "       '550457-chat', '550458-audio-streaming', '550459-audio-streaming',\n",
       "       '550460-audio-streaming', '550461-audio-streaming',\n",
       "       '550462-file-transfer', '550463-voip', '550464-audio-streaming',\n",
       "       '550465-audio-streaming', '550466-file-transfer'],\n",
       "      dtype='object', name='Index', length=550467)>"
      ]
     },
     "execution_count": 21,
     "metadata": {},
     "output_type": "execute_result"
    }
   ],
   "source": [
    "data.index.value_counts"
   ]
  },
  {
   "cell_type": "code",
   "execution_count": 19,
   "metadata": {},
   "outputs": [],
   "source": [
    "image_folder = \"darknet_data\"\n",
    "for i in range(0, len(image_data)):\n",
    "    #image = Image.fromarray(image_data[i])\n",
    "    image = tensor_to_image(image_data[i])\n",
    "    image.save(image_folder + '/' + str(data.index[i]) + '_image.png')"
   ]
  },
  {
   "cell_type": "code",
   "execution_count": 2,
   "metadata": {},
   "outputs": [],
   "source": [
    "#fig, ax = plt.subplots(1, 6, figsize=(15, 5))\n",
    "#for i in range(20000,20005):\n",
    "    #ax[i].imshow(data[i])\n",
    "    #ax[i].title.set_text(f\"Train[{i}] - class '{Y_train[i]}'\")\n",
    "#plt.tight_layout()\n",
    "\n",
    "#fig.savefig('full_figure.png')"
   ]
  },
  {
   "cell_type": "code",
   "execution_count": 1,
   "metadata": {},
   "outputs": [],
   "source": [
    "#data = pd.read_csv('./Darknet_experiments_updated_index.csv', low_memory=False, header=0, index_col=0)"
   ]
  },
  {
   "cell_type": "code",
   "execution_count": 1,
   "metadata": {},
   "outputs": [],
   "source": [
    "# ResNet50_model = tf.keras.applications.ResNet50V2(weights='imagenet', include_top=False, input_shape=(234,230,3), classes=12)\n",
    "\n",
    "# for layers in ResNet50_model.layers:\n",
    "#     layers.trainable=True\n",
    "\n",
    "# opt = tf.keras.optimizers.SGD(lr=0.01,momentum=0.7)\n",
    "# resnet50_x = tf.keras.layers.Flatten()(ResNet50_model.output)\n",
    "# resnet50_x = tf.keras.layers.Dense(256,activation='relu')(resnet50_x)\n",
    "# resnet50_x = tf.keras.layers.Dense(12,activation='softmax')(resnet50_x)\n",
    "# resnet50_x_final_model = tf.keras.Model(inputs=ResNet50_model.input, outputs=resnet50_x)\n",
    "# resnet50_x_final_model.compile(loss = 'categorical_crossentropy', optimizer= opt, metrics=['acc',f1_m,precision_m, recall_m])\n",
    "# number_of_epochs = 60\n",
    "# resnet_filepath = '/mnt/sda1/image_results/resnet50'+'-saved-model-{epoch:02d}-val_acc-{val_acc:.2f}.hdf5'\n",
    "# resnet_checkpoint = tf.keras.callbacks.ModelCheckpoint(resnet_filepath, monitor='val_acc', verbose=1, save_best_only=True, mode='max')\n",
    "# resnet_early_stopping = tf.keras.callbacks.EarlyStopping(monitor='loss', patience=5)\n",
    "# reduce_lr = tf.keras.callbacks.ReduceLROnPlateau(monitor='val_loss', factor=0.05, patience=5, min_lr=0.000002)\n",
    "# tb_callback = tf.keras.callbacks.TensorBoard('./tb_logs', update_freq=1)\n",
    "# callbacklist = [resnet_checkpoint,resnet_early_stopping,reduce_lr,tb_callback]\n",
    "# resnet50_history = resnet50_x_final_model.fit(train_generator, epochs = number_of_epochs ,validation_data = validation_generator,callbacks=callbacklist,verbose=1)\n"
   ]
  }
 ],
 "metadata": {
  "kernelspec": {
   "display_name": "Python 3.8.13 ('base')",
   "language": "python",
   "name": "python3"
  },
  "language_info": {
   "codemirror_mode": {
    "name": "ipython",
    "version": 3
   },
   "file_extension": ".py",
   "mimetype": "text/x-python",
   "name": "python",
   "nbconvert_exporter": "python",
   "pygments_lexer": "ipython3",
   "version": "3.8.13"
  },
  "orig_nbformat": 4,
  "vscode": {
   "interpreter": {
    "hash": "951c65f5905f30db100e56244caf934266d28ae57f06ddf3dd53a44986e6c405"
   }
  }
 },
 "nbformat": 4,
 "nbformat_minor": 2
}
