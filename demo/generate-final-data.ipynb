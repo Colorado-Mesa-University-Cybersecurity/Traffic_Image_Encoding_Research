{
 "cells": [
  {
   "cell_type": "code",
   "execution_count": 13,
   "metadata": {},
   "outputs": [],
   "source": [
    "import pandas as pd\n",
    "import numpy as np\n",
    "import xgboost as xgb\n",
    "import seaborn as sns\n",
    "import matplotlib.pyplot as plt"
   ]
  },
  {
   "cell_type": "code",
   "execution_count": 14,
   "metadata": {},
   "outputs": [],
   "source": [
    "data = pd.read_csv('../CMU_SynTraffic_2022/CMU_SynTraffic_2022.csv')\n",
    "seed = 42"
   ]
  },
  {
   "cell_type": "markdown",
   "metadata": {},
   "source": [
    "To make downsampled dataset:\n",
    "1. Get all real data\n",
    "2. Upsample each application type with < 30k samples from smote data\n",
    "3. Downsample application types with > 30k samples\n",
    "\n",
    "all samples use seed of 42"
   ]
  },
  {
   "cell_type": "code",
   "execution_count": 15,
   "metadata": {},
   "outputs": [],
   "source": [
    "data_real = data[data['Data Source'] == 'Real']\n",
    "data_smote = data[data['Data Source'] == 'SMOTE']\n",
    "downsampled_data = data_real"
   ]
  },
  {
   "cell_type": "code",
   "execution_count": 16,
   "metadata": {},
   "outputs": [],
   "source": [
    "# temp = data_smote.loc[data_smote['Application Type'] == 'audio-streaming']"
   ]
  },
  {
   "cell_type": "markdown",
   "metadata": {},
   "source": [
    "upsampling < 30k"
   ]
  },
  {
   "cell_type": "code",
   "execution_count": 17,
   "metadata": {},
   "outputs": [
    {
     "name": "stdout",
     "output_type": "stream",
     "text": [
      "audio-streaming 15246\n",
      "browsing -2808\n",
      "chat 25049\n",
      "file-transfer 20659\n",
      "email 28928\n",
      "p2p -18520\n",
      "video-streaming 25291\n",
      "voip 28535\n"
     ]
    }
   ],
   "source": [
    "for dtype in downsampled_data['Application Type'].unique():\n",
    "    n = 30000 - downsampled_data['Application Type'].value_counts()[dtype]\n",
    "    print(dtype, n)\n",
    "    if(n<0):\n",
    "        n=0\n",
    "    temp = data_smote.loc[data_smote['Application Type'] == dtype].sample(n, random_state=seed)\n",
    "    downsampled_data = pd.concat([downsampled_data, temp], ignore_index=True)\n",
    "    #downsampled_data.concat(temp, ignore_index=True)"
   ]
  },
  {
   "cell_type": "code",
   "execution_count": 18,
   "metadata": {},
   "outputs": [
    {
     "data": {
      "text/plain": [
       "p2p                48520\n",
       "browsing           32808\n",
       "file-transfer      30000\n",
       "voip               30000\n",
       "email              30000\n",
       "chat               30000\n",
       "video-streaming    30000\n",
       "audio-streaming    30000\n",
       "Name: Application Type, dtype: int64"
      ]
     },
     "execution_count": 18,
     "metadata": {},
     "output_type": "execute_result"
    }
   ],
   "source": [
    "downsampled_data['Application Type'].value_counts()"
   ]
  },
  {
   "cell_type": "markdown",
   "metadata": {},
   "source": [
    "downsamples application types with >30k samples\n"
   ]
  },
  {
   "cell_type": "code",
   "execution_count": 19,
   "metadata": {},
   "outputs": [],
   "source": [
    "downsampled_data = downsampled_data.groupby('Application Type').sample(30000, random_state=42)"
   ]
  },
  {
   "cell_type": "code",
   "execution_count": 20,
   "metadata": {},
   "outputs": [
    {
     "data": {
      "text/plain": [
       "file-transfer      30000\n",
       "voip               30000\n",
       "email              30000\n",
       "p2p                30000\n",
       "chat               30000\n",
       "video-streaming    30000\n",
       "audio-streaming    30000\n",
       "browsing           30000\n",
       "Name: Application Type, dtype: int64"
      ]
     },
     "execution_count": 20,
     "metadata": {},
     "output_type": "execute_result"
    }
   ],
   "source": [
    "downsampled_data['Application Type'].value_counts()"
   ]
  },
  {
   "cell_type": "code",
   "execution_count": 21,
   "metadata": {},
   "outputs": [
    {
     "data": {
      "text/plain": [
       "65"
      ]
     },
     "execution_count": 21,
     "metadata": {},
     "output_type": "execute_result"
    }
   ],
   "source": [
    "len(downsampled_data.columns)"
   ]
  },
  {
   "cell_type": "markdown",
   "metadata": {},
   "source": [
    "remove traffic type and data source"
   ]
  },
  {
   "cell_type": "code",
   "execution_count": 22,
   "metadata": {},
   "outputs": [],
   "source": [
    "downsampled_data = downsampled_data.drop(columns=['Traffic Type'])\n",
    "downsampled_data = downsampled_data.drop(columns=['Data Source'])"
   ]
  },
  {
   "cell_type": "code",
   "execution_count": 25,
   "metadata": {},
   "outputs": [],
   "source": [
    "downsampled_data.to_csv('./final_darknet_data.csv')"
   ]
  }
 ],
 "metadata": {
  "kernelspec": {
   "display_name": "Python 3.8.13 ('base')",
   "language": "python",
   "name": "python3"
  },
  "language_info": {
   "codemirror_mode": {
    "name": "ipython",
    "version": 3
   },
   "file_extension": ".py",
   "mimetype": "text/x-python",
   "name": "python",
   "nbconvert_exporter": "python",
   "pygments_lexer": "ipython3",
   "version": "3.8.13"
  },
  "orig_nbformat": 4,
  "vscode": {
   "interpreter": {
    "hash": "951c65f5905f30db100e56244caf934266d28ae57f06ddf3dd53a44986e6c405"
   }
  }
 },
 "nbformat": 4,
 "nbformat_minor": 2
}
