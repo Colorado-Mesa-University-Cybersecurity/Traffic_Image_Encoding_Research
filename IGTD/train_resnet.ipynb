{
 "cells": [
  {
   "cell_type": "code",
   "execution_count": 1,
   "metadata": {},
   "outputs": [
    {
     "name": "stderr",
     "output_type": "stream",
     "text": [
      "2022-09-21 22:13:42.490525: I tensorflow/stream_executor/platform/default/dso_loader.cc:49] Successfully opened dynamic library libcudart.so.10.1\n"
     ]
    }
   ],
   "source": [
    "from keras_preprocessing import image\n",
    "from keras_preprocessing.image import ImageDataGenerator\n",
    "from keras.models import Input, Model\n",
    "from keras.layers import Conv2D\n",
    "import numpy as np\n",
    "from keras import backend as K\n",
    "import tensorflow as tf\n",
    "import keras"
   ]
  },
  {
   "cell_type": "code",
   "execution_count": 7,
   "metadata": {},
   "outputs": [],
   "source": [
    "img_size = 9\n",
    "target_size = (img_size,img_size)\n",
    "num_classes = 11\n",
    "batch_size = 32\n",
    "number_of_epochs = 50"
   ]
  },
  {
   "cell_type": "markdown",
   "metadata": {},
   "source": [
    "# Create Datasets"
   ]
  },
  {
   "cell_type": "code",
   "execution_count": 8,
   "metadata": {},
   "outputs": [
    {
     "name": "stdout",
     "output_type": "stream",
     "text": [
      "Found 567989 images belonging to 11 classes.\n",
      "Found 55000 images belonging to 11 classes.\n"
     ]
    }
   ],
   "source": [
    "train_dir = \"/mnt/sda1/image_results-small/Train/\"\n",
    "valid_dir = \"/mnt/sda1/image_results-small/Validation/\"\n",
    "\n",
    "train_datagen = ImageDataGenerator()\n",
    "\n",
    "\n",
    "train_generator = train_datagen.flow_from_directory(train_dir,\n",
    "                                                    batch_size=batch_size,\n",
    "                                                    shuffle=True,\n",
    "                                                    class_mode='categorical',\n",
    "                                                    target_size=target_size,\n",
    "                                                    color_mode=\"grayscale\")\n",
    "\n",
    "validation_datagen = ImageDataGenerator()\n",
    "validation_generator = validation_datagen.flow_from_directory(valid_dir, \n",
    "                                                              shuffle=True,\n",
    "                                                              batch_size=batch_size,\n",
    "                                                              class_mode='categorical',\n",
    "                                                              target_size=target_size,\n",
    "                                                              color_mode=\"grayscale\")"
   ]
  },
  {
   "cell_type": "markdown",
   "metadata": {},
   "source": [
    "# Custom Metrics not supported in Tensforflow"
   ]
  },
  {
   "cell_type": "code",
   "execution_count": 9,
   "metadata": {},
   "outputs": [],
   "source": [
    "def recall_m(y_true, y_pred):\n",
    "    true_positives = K.sum(K.round(K.clip(y_true * y_pred, 0, 1)))\n",
    "    possible_positives = K.sum(K.round(K.clip(y_true, 0, 1)))\n",
    "    recall = true_positives / (possible_positives + K.epsilon())\n",
    "    return recall\n",
    "\n",
    "def precision_m(y_true, y_pred):\n",
    "    true_positives = K.sum(K.round(K.clip(y_true * y_pred, 0, 1)))\n",
    "    predicted_positives = K.sum(K.round(K.clip(y_pred, 0, 1)))\n",
    "    precision = true_positives / (predicted_positives + K.epsilon())\n",
    "    return precision\n",
    "\n",
    "def f1_m(y_true, y_pred):\n",
    "    precision = precision_m(y_true, y_pred)\n",
    "    recall = recall_m(y_true, y_pred)\n",
    "    return 2*((precision*recall)/(precision+recall+K.epsilon()))"
   ]
  },
  {
   "cell_type": "markdown",
   "metadata": {},
   "source": [
    "# Verify GPU support"
   ]
  },
  {
   "cell_type": "code",
   "execution_count": 10,
   "metadata": {},
   "outputs": [
    {
     "name": "stdout",
     "output_type": "stream",
     "text": [
      "Running tensorflow version: 2.4.0\n",
      "Running tensorflow.keras version: 2.4.1\n",
      "Running keras version: 2.4.3\n",
      "Num GPUs Available:  1\n",
      "1 Physical GPUs, 1 Logical GPUs\n"
     ]
    }
   ],
   "source": [
    "print(\"Running tensorflow version: {}\".format(tf.keras.__version__))\n",
    "print(\"Running tensorflow.keras version: {}\".format(tf.__version__))\n",
    "print(\"Running keras version: {}\".format(keras.__version__))\n",
    "print(\"Num GPUs Available: \", len(tf.config.experimental.list_physical_devices('GPU')))\n",
    "tf.config.experimental.list_physical_devices('GPU')\n",
    "\n",
    "gpus = tf.config.experimental.list_physical_devices('GPU')\n",
    "if gpus:\n",
    "  # Restrict TensorFlow to only allocate 2GB of memory on the first GPU\n",
    "  try:\n",
    "    tf.config.experimental.set_virtual_device_configuration(\n",
    "        gpus[0],\n",
    "        [tf.config.experimental.VirtualDeviceConfiguration(memory_limit=2048)])\n",
    "    logical_gpus = tf.config.experimental.list_logical_devices('GPU')\n",
    "    print(len(gpus), \"Physical GPUs,\", len(logical_gpus), \"Logical GPUs\")\n",
    "  except RuntimeError as e:\n",
    "    # Virtual devices must be set before GPUs have been initialized\n",
    "    print(e)"
   ]
  },
  {
   "cell_type": "markdown",
   "metadata": {},
   "source": [
    "# Train model"
   ]
  },
  {
   "cell_type": "code",
   "execution_count": 11,
   "metadata": {},
   "outputs": [
    {
     "name": "stderr",
     "output_type": "stream",
     "text": [
      "2022-09-21 22:14:59.369036: I tensorflow/core/profiler/lib/profiler_session.cc:136] Profiler session initializing.\n",
      "2022-09-21 22:14:59.369061: I tensorflow/core/profiler/lib/profiler_session.cc:155] Profiler session started.\n",
      "2022-09-21 22:14:59.369158: I tensorflow/core/profiler/lib/profiler_session.cc:172] Profiler session tear down.\n",
      "2022-09-21 22:14:59.369236: I tensorflow/core/profiler/internal/gpu/cupti_tracer.cc:1487] CUPTI activity buffer flushed\n"
     ]
    },
    {
     "name": "stdout",
     "output_type": "stream",
     "text": [
      "Epoch 1/50\n"
     ]
    },
    {
     "name": "stderr",
     "output_type": "stream",
     "text": [
      "2022-09-21 22:15:02.394085: W tensorflow/core/common_runtime/bfc_allocator.cc:248] Allocator (GPU_0_bfc) ran out of memory trying to allocate 2.41GiB with freed_by_count=0. The caller indicates that this is not a failure, but may mean that there could be performance gains if more memory were available.\n",
      "2022-09-21 22:15:02.710700: W tensorflow/core/common_runtime/bfc_allocator.cc:248] Allocator (GPU_0_bfc) ran out of memory trying to allocate 2.27GiB with freed_by_count=0. The caller indicates that this is not a failure, but may mean that there could be performance gains if more memory were available.\n",
      "2022-09-21 22:15:04.232969: W tensorflow/core/common_runtime/bfc_allocator.cc:248] Allocator (GPU_0_bfc) ran out of memory trying to allocate 2.27GiB with freed_by_count=0. The caller indicates that this is not a failure, but may mean that there could be performance gains if more memory were available.\n",
      "2022-09-21 22:15:04.560015: W tensorflow/core/common_runtime/bfc_allocator.cc:248] Allocator (GPU_0_bfc) ran out of memory trying to allocate 2.30GiB with freed_by_count=0. The caller indicates that this is not a failure, but may mean that there could be performance gains if more memory were available.\n"
     ]
    },
    {
     "name": "stdout",
     "output_type": "stream",
     "text": [
      "    2/17750 [..............................] - ETA: 39:54 - loss: 2.6915 - acc: 0.1094 - f1_m: 0.0000e+00 - precision_m: 0.0000e+00 - recall_m: 0.0000e+00    "
     ]
    },
    {
     "name": "stderr",
     "output_type": "stream",
     "text": [
      "2022-09-21 22:15:23.779397: I tensorflow/core/profiler/lib/profiler_session.cc:136] Profiler session initializing.\n",
      "2022-09-21 22:15:23.779422: I tensorflow/core/profiler/lib/profiler_session.cc:155] Profiler session started.\n",
      "2022-09-21 22:15:23.823986: I tensorflow/core/profiler/lib/profiler_session.cc:71] Profiler session collecting data.\n",
      "2022-09-21 22:15:23.825131: I tensorflow/core/profiler/internal/gpu/cupti_tracer.cc:1487] CUPTI activity buffer flushed\n",
      "2022-09-21 22:15:23.833466: I tensorflow/core/profiler/internal/gpu/cupti_collector.cc:228]  GpuTracer has collected 1579 callback api events and 1555 activity events. \n",
      "2022-09-21 22:15:23.862069: I tensorflow/core/profiler/lib/profiler_session.cc:172] Profiler session tear down.\n",
      "2022-09-21 22:15:23.890656: I tensorflow/core/profiler/rpc/client/save_profile.cc:137] Creating directory: ./tb_logs/train/plugins/profile/2022_09_21_22_15_23\n",
      "2022-09-21 22:15:23.910683: I tensorflow/core/profiler/rpc/client/save_profile.cc:143] Dumped gzipped tool data for trace.json.gz to ./tb_logs/train/plugins/profile/2022_09_21_22_15_23/drake-pc.trace.json.gz\n",
      "2022-09-21 22:15:23.961978: I tensorflow/core/profiler/rpc/client/save_profile.cc:137] Creating directory: ./tb_logs/train/plugins/profile/2022_09_21_22_15_23\n",
      "2022-09-21 22:15:23.967171: I tensorflow/core/profiler/rpc/client/save_profile.cc:143] Dumped gzipped tool data for memory_profile.json.gz to ./tb_logs/train/plugins/profile/2022_09_21_22_15_23/drake-pc.memory_profile.json.gz\n",
      "2022-09-21 22:15:23.969772: I tensorflow/core/profiler/rpc/client/capture_profile.cc:251] Creating directory: ./tb_logs/train/plugins/profile/2022_09_21_22_15_23Dumped tool data for xplane.pb to ./tb_logs/train/plugins/profile/2022_09_21_22_15_23/drake-pc.xplane.pb\n",
      "Dumped tool data for overview_page.pb to ./tb_logs/train/plugins/profile/2022_09_21_22_15_23/drake-pc.overview_page.pb\n",
      "Dumped tool data for input_pipeline.pb to ./tb_logs/train/plugins/profile/2022_09_21_22_15_23/drake-pc.input_pipeline.pb\n",
      "Dumped tool data for tensorflow_stats.pb to ./tb_logs/train/plugins/profile/2022_09_21_22_15_23/drake-pc.tensorflow_stats.pb\n",
      "Dumped tool data for kernel_stats.pb to ./tb_logs/train/plugins/profile/2022_09_21_22_15_23/drake-pc.kernel_stats.pb\n",
      "\n"
     ]
    },
    {
     "name": "stdout",
     "output_type": "stream",
     "text": [
      " 9066/17750 [==============>...............] - ETA: 6:11 - loss: 1.1496 - acc: 0.5936 - f1_m: 0.5253 - precision_m: 0.7816 - recall_m: 0.4347"
     ]
    },
    {
     "name": "stderr",
     "output_type": "stream",
     "text": [
      "2022-09-21 22:22:04.321409: W tensorflow/core/common_runtime/bfc_allocator.cc:248] Allocator (GPU_0_bfc) ran out of memory trying to allocate 2.29GiB with freed_by_count=0. The caller indicates that this is not a failure, but may mean that there could be performance gains if more memory were available.\n",
      "2022-09-21 22:22:04.745707: W tensorflow/core/common_runtime/bfc_allocator.cc:248] Allocator (GPU_0_bfc) ran out of memory trying to allocate 2.36GiB with freed_by_count=0. The caller indicates that this is not a failure, but may mean that there could be performance gains if more memory were available.\n",
      "2022-09-21 22:22:04.967354: W tensorflow/core/common_runtime/bfc_allocator.cc:248] Allocator (GPU_0_bfc) ran out of memory trying to allocate 2.36GiB with freed_by_count=0. The caller indicates that this is not a failure, but may mean that there could be performance gains if more memory were available.\n",
      "2022-09-21 22:22:05.299320: W tensorflow/core/common_runtime/bfc_allocator.cc:248] Allocator (GPU_0_bfc) ran out of memory trying to allocate 2.27GiB with freed_by_count=0. The caller indicates that this is not a failure, but may mean that there could be performance gains if more memory were available.\n"
     ]
    },
    {
     "name": "stdout",
     "output_type": "stream",
     "text": [
      "17750/17750 [==============================] - ETA: 0s - loss: 0.9102 - acc: 0.6779 - f1_m: 0.6316 - precision_m: 0.8120 - recall_m: 0.5592"
     ]
    }
   ],
   "source": [
    "with tf.device(tf.DeviceSpec(device_type=\"GPU\", device_index='0')):\n",
    "    # Grab pretrained model, include_top removes the classification layer\n",
    "    original_ResNet50_model = tf.keras.applications.ResNet50V2(weights='imagenet', include_top=False, classes=num_classes)\n",
    "    \n",
    "    # Resnet wants a three chanel input, but we have grayscale images\n",
    "    input_tensor = Input(shape=(img_size,img_size,1))\n",
    "    # x has a dimension of (IMG_SIZE,IMG_SIZE,3)\n",
    "    x = Conv2D(3,target_size,padding='same')(input_tensor) \n",
    "    # Prepend the Resnet model with the input tensor\n",
    "    out = original_ResNet50_model(x) \n",
    "    ResNet50_model = Model(inputs=input_tensor,outputs=out)\n",
    "    \n",
    "    # Layers are frozen by default, performance seems to tank if we freeze them\n",
    "    for layer in ResNet50_model.layers:\n",
    "        layer.trainable = True\n",
    "    \n",
    "    # Creating fully connected layer for learning\n",
    "    resnet50_x = tf.keras.layers.Flatten()(ResNet50_model.output)\n",
    "    resnet50_x = tf.keras.layers.Dense(512,activation='relu')(resnet50_x)\n",
    "    resnet50_x = tf.keras.layers.Dense(num_classes,activation='softmax')(resnet50_x)\n",
    "    resnet50_x_final_model = tf.keras.Model(inputs=ResNet50_model.input, outputs=resnet50_x)\n",
    "    \n",
    "    #opt = tf.keras.optimizers.Adam(lr=0.01)\n",
    "    opt = tf.keras.optimizers.SGD(lr=0.01,momentum=0.7)\n",
    "    resnet50_x_final_model.compile(loss = 'categorical_crossentropy', optimizer= opt, metrics=['acc',f1_m,precision_m, recall_m])\n",
    "    resnet_filepath = '/mnt/sda1/resnet-models/resnet50'+'-saved-model-{epoch:02d}-val_acc-{val_acc:.2f}.hdf5'\n",
    "    resnet_checkpoint = tf.keras.callbacks.ModelCheckpoint(resnet_filepath, monitor='val_acc', verbose=1, save_best_only=True, mode='max')\n",
    "    resnet_early_stopping = tf.keras.callbacks.EarlyStopping(monitor='loss', patience=5)\n",
    "    reduce_lr = tf.keras.callbacks.ReduceLROnPlateau(monitor='val_loss', factor=0.05, patience=5, min_lr=0.000002)\n",
    "    tb_callback = tf.keras.callbacks.TensorBoard('./tb_logs', update_freq=1)\n",
    "    callbacklist = [resnet_checkpoint,resnet_early_stopping,reduce_lr,tb_callback]\n",
    "\n",
    "    resnet50_history = resnet50_x_final_model.fit(train_generator, epochs = number_of_epochs ,validation_data = validation_generator,callbacks=callbacklist,verbose=1)\n"
   ]
  },
  {
   "cell_type": "code",
   "execution_count": null,
   "metadata": {},
   "outputs": [],
   "source": []
  }
 ],
 "metadata": {
  "kernelspec": {
   "display_name": "Python 3",
   "language": "python",
   "name": "python3"
  },
  "language_info": {
   "codemirror_mode": {
    "name": "ipython",
    "version": 3
   },
   "file_extension": ".py",
   "mimetype": "text/x-python",
   "name": "python",
   "nbconvert_exporter": "python",
   "pygments_lexer": "ipython3",
   "version": "3.9.13"
  },
  "vscode": {
   "interpreter": {
    "hash": "01b43af51fd77f9f473dc8138d7466027ddf88d382b9cdd9bb3068aee8377522"
   }
  }
 },
 "nbformat": 4,
 "nbformat_minor": 2
}
