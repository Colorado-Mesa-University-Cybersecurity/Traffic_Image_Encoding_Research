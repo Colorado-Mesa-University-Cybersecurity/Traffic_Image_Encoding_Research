{
 "cells": [
  {
   "cell_type": "code",
   "execution_count": 1,
   "metadata": {},
   "outputs": [
    {
     "name": "stderr",
     "output_type": "stream",
     "text": [
      "2022-09-22 19:19:58.551519: I tensorflow/stream_executor/platform/default/dso_loader.cc:49] Successfully opened dynamic library libcudart.so.10.1\n"
     ]
    }
   ],
   "source": [
    "from keras_preprocessing import image\n",
    "from keras_preprocessing.image import ImageDataGenerator\n",
    "from keras.models import Input, Model\n",
    "from keras.layers import Conv2D\n",
    "import numpy as np\n",
    "from keras import backend as K\n",
    "import tensorflow as tf\n",
    "import keras"
   ]
  },
  {
   "cell_type": "code",
   "execution_count": 2,
   "metadata": {},
   "outputs": [],
   "source": [
    "img_size = 32\n",
    "target_size = (img_size,img_size)\n",
    "num_classes = 8\n",
    "batch_size = 32\n",
    "number_of_epochs = 50"
   ]
  },
  {
   "cell_type": "markdown",
   "metadata": {},
   "source": [
    "# Create Datasets"
   ]
  },
  {
   "cell_type": "code",
   "execution_count": 3,
   "metadata": {},
   "outputs": [
    {
     "name": "stdout",
     "output_type": "stream",
     "text": [
      "Found 470467 images belonging to 8 classes.\n",
      "Found 80000 images belonging to 8 classes.\n"
     ]
    }
   ],
   "source": [
    "train_dir = \"/mnt/sda1/image-results-darknet/Train/\"\n",
    "valid_dir = \"/mnt/sda1/image-results-darknet/Validation/\"\n",
    "\n",
    "train_datagen = ImageDataGenerator()\n",
    "\n",
    "\n",
    "train_generator = train_datagen.flow_from_directory(train_dir,\n",
    "                                                    batch_size=batch_size,\n",
    "                                                    shuffle=True,\n",
    "                                                    class_mode='categorical',\n",
    "                                                    target_size=target_size\n",
    "                                                    )\n",
    "\n",
    "validation_datagen = ImageDataGenerator()\n",
    "validation_generator = validation_datagen.flow_from_directory(valid_dir, \n",
    "                                                              shuffle=True,\n",
    "                                                              batch_size=batch_size,\n",
    "                                                              class_mode='categorical',\n",
    "                                                              target_size=target_size)"
   ]
  },
  {
   "cell_type": "markdown",
   "metadata": {},
   "source": [
    "# Custom Metrics not supported in Tensforflow"
   ]
  },
  {
   "cell_type": "code",
   "execution_count": 4,
   "metadata": {},
   "outputs": [],
   "source": [
    "def recall_m(y_true, y_pred):\n",
    "    true_positives = K.sum(K.round(K.clip(y_true * y_pred, 0, 1)))\n",
    "    possible_positives = K.sum(K.round(K.clip(y_true, 0, 1)))\n",
    "    recall = true_positives / (possible_positives + K.epsilon())\n",
    "    return recall\n",
    "\n",
    "def precision_m(y_true, y_pred):\n",
    "    true_positives = K.sum(K.round(K.clip(y_true * y_pred, 0, 1)))\n",
    "    predicted_positives = K.sum(K.round(K.clip(y_pred, 0, 1)))\n",
    "    precision = true_positives / (predicted_positives + K.epsilon())\n",
    "    return precision\n",
    "\n",
    "def f1_m(y_true, y_pred):\n",
    "    precision = precision_m(y_true, y_pred)\n",
    "    recall = recall_m(y_true, y_pred)\n",
    "    return 2*((precision*recall)/(precision+recall+K.epsilon()))"
   ]
  },
  {
   "cell_type": "markdown",
   "metadata": {},
   "source": [
    "# Verify GPU support"
   ]
  },
  {
   "cell_type": "code",
   "execution_count": 5,
   "metadata": {},
   "outputs": [
    {
     "name": "stdout",
     "output_type": "stream",
     "text": [
      "Running tensorflow version: 2.4.0\n",
      "Running tensorflow.keras version: 2.4.1\n",
      "Running keras version: 2.4.3\n",
      "Num GPUs Available:  1\n",
      "1 Physical GPUs, 1 Logical GPUs\n"
     ]
    },
    {
     "name": "stderr",
     "output_type": "stream",
     "text": [
      "2022-09-22 19:20:13.857959: I tensorflow/compiler/jit/xla_cpu_device.cc:41] Not creating XLA devices, tf_xla_enable_xla_devices not set\n",
      "2022-09-22 19:20:13.858844: I tensorflow/stream_executor/platform/default/dso_loader.cc:49] Successfully opened dynamic library libcuda.so.1\n",
      "2022-09-22 19:20:13.887502: I tensorflow/stream_executor/cuda/cuda_gpu_executor.cc:941] successful NUMA node read from SysFS had negative value (-1), but there must be at least one NUMA node, so returning NUMA node zero\n",
      "2022-09-22 19:20:13.887822: I tensorflow/core/common_runtime/gpu/gpu_device.cc:1720] Found device 0 with properties: \n",
      "pciBusID: 0000:01:00.0 name: NVIDIA GeForce GTX 1080 computeCapability: 6.1\n",
      "coreClock: 1.7715GHz coreCount: 20 deviceMemorySize: 7.92GiB deviceMemoryBandwidth: 298.32GiB/s\n",
      "2022-09-22 19:20:13.887842: I tensorflow/stream_executor/platform/default/dso_loader.cc:49] Successfully opened dynamic library libcudart.so.10.1\n",
      "2022-09-22 19:20:13.923312: I tensorflow/stream_executor/platform/default/dso_loader.cc:49] Successfully opened dynamic library libcublas.so.10\n",
      "2022-09-22 19:20:13.923511: I tensorflow/stream_executor/platform/default/dso_loader.cc:49] Successfully opened dynamic library libcublasLt.so.10\n",
      "2022-09-22 19:20:13.948544: I tensorflow/stream_executor/platform/default/dso_loader.cc:49] Successfully opened dynamic library libcufft.so.10\n",
      "2022-09-22 19:20:13.955741: I tensorflow/stream_executor/platform/default/dso_loader.cc:49] Successfully opened dynamic library libcurand.so.10\n",
      "2022-09-22 19:20:14.000270: I tensorflow/stream_executor/platform/default/dso_loader.cc:49] Successfully opened dynamic library libcusolver.so.10\n",
      "2022-09-22 19:20:14.007051: I tensorflow/stream_executor/platform/default/dso_loader.cc:49] Successfully opened dynamic library libcusparse.so.10\n",
      "2022-09-22 19:20:14.068002: I tensorflow/stream_executor/platform/default/dso_loader.cc:49] Successfully opened dynamic library libcudnn.so.7\n",
      "2022-09-22 19:20:14.068309: I tensorflow/stream_executor/cuda/cuda_gpu_executor.cc:941] successful NUMA node read from SysFS had negative value (-1), but there must be at least one NUMA node, so returning NUMA node zero\n",
      "2022-09-22 19:20:14.069409: I tensorflow/stream_executor/cuda/cuda_gpu_executor.cc:941] successful NUMA node read from SysFS had negative value (-1), but there must be at least one NUMA node, so returning NUMA node zero\n",
      "2022-09-22 19:20:14.070266: I tensorflow/core/common_runtime/gpu/gpu_device.cc:1862] Adding visible gpu devices: 0\n",
      "2022-09-22 19:20:14.072357: I tensorflow/core/platform/cpu_feature_guard.cc:142] This TensorFlow binary is optimized with oneAPI Deep Neural Network Library (oneDNN) to use the following CPU instructions in performance-critical operations:  SSE4.1 SSE4.2 AVX AVX2 FMA\n",
      "To enable them in other operations, rebuild TensorFlow with the appropriate compiler flags.\n",
      "2022-09-22 19:20:14.073251: I tensorflow/compiler/jit/xla_gpu_device.cc:99] Not creating XLA devices, tf_xla_enable_xla_devices not set\n",
      "2022-09-22 19:20:14.073441: I tensorflow/stream_executor/cuda/cuda_gpu_executor.cc:941] successful NUMA node read from SysFS had negative value (-1), but there must be at least one NUMA node, so returning NUMA node zero\n",
      "2022-09-22 19:20:14.074172: I tensorflow/core/common_runtime/gpu/gpu_device.cc:1720] Found device 0 with properties: \n",
      "pciBusID: 0000:01:00.0 name: NVIDIA GeForce GTX 1080 computeCapability: 6.1\n",
      "coreClock: 1.7715GHz coreCount: 20 deviceMemorySize: 7.92GiB deviceMemoryBandwidth: 298.32GiB/s\n",
      "2022-09-22 19:20:14.074230: I tensorflow/stream_executor/platform/default/dso_loader.cc:49] Successfully opened dynamic library libcudart.so.10.1\n",
      "2022-09-22 19:20:14.074257: I tensorflow/stream_executor/platform/default/dso_loader.cc:49] Successfully opened dynamic library libcublas.so.10\n",
      "2022-09-22 19:20:14.074277: I tensorflow/stream_executor/platform/default/dso_loader.cc:49] Successfully opened dynamic library libcublasLt.so.10\n",
      "2022-09-22 19:20:14.074295: I tensorflow/stream_executor/platform/default/dso_loader.cc:49] Successfully opened dynamic library libcufft.so.10\n",
      "2022-09-22 19:20:14.074313: I tensorflow/stream_executor/platform/default/dso_loader.cc:49] Successfully opened dynamic library libcurand.so.10\n",
      "2022-09-22 19:20:14.074332: I tensorflow/stream_executor/platform/default/dso_loader.cc:49] Successfully opened dynamic library libcusolver.so.10\n",
      "2022-09-22 19:20:14.074353: I tensorflow/stream_executor/platform/default/dso_loader.cc:49] Successfully opened dynamic library libcusparse.so.10\n",
      "2022-09-22 19:20:14.074372: I tensorflow/stream_executor/platform/default/dso_loader.cc:49] Successfully opened dynamic library libcudnn.so.7\n",
      "2022-09-22 19:20:14.074486: I tensorflow/stream_executor/cuda/cuda_gpu_executor.cc:941] successful NUMA node read from SysFS had negative value (-1), but there must be at least one NUMA node, so returning NUMA node zero\n",
      "2022-09-22 19:20:14.075064: I tensorflow/stream_executor/cuda/cuda_gpu_executor.cc:941] successful NUMA node read from SysFS had negative value (-1), but there must be at least one NUMA node, so returning NUMA node zero\n",
      "2022-09-22 19:20:14.075581: I tensorflow/core/common_runtime/gpu/gpu_device.cc:1862] Adding visible gpu devices: 0\n",
      "2022-09-22 19:20:14.076095: I tensorflow/stream_executor/platform/default/dso_loader.cc:49] Successfully opened dynamic library libcudart.so.10.1\n",
      "2022-09-22 19:20:15.190877: I tensorflow/core/common_runtime/gpu/gpu_device.cc:1261] Device interconnect StreamExecutor with strength 1 edge matrix:\n",
      "2022-09-22 19:20:15.190902: I tensorflow/core/common_runtime/gpu/gpu_device.cc:1267]      0 \n",
      "2022-09-22 19:20:15.190907: I tensorflow/core/common_runtime/gpu/gpu_device.cc:1280] 0:   N \n",
      "2022-09-22 19:20:15.191546: I tensorflow/stream_executor/cuda/cuda_gpu_executor.cc:941] successful NUMA node read from SysFS had negative value (-1), but there must be at least one NUMA node, so returning NUMA node zero\n",
      "2022-09-22 19:20:15.191859: I tensorflow/stream_executor/cuda/cuda_gpu_executor.cc:941] successful NUMA node read from SysFS had negative value (-1), but there must be at least one NUMA node, so returning NUMA node zero\n",
      "2022-09-22 19:20:15.192121: I tensorflow/stream_executor/cuda/cuda_gpu_executor.cc:941] successful NUMA node read from SysFS had negative value (-1), but there must be at least one NUMA node, so returning NUMA node zero\n",
      "2022-09-22 19:20:15.192370: I tensorflow/core/common_runtime/gpu/gpu_device.cc:1406] Created TensorFlow device (/job:localhost/replica:0/task:0/device:GPU:0 with 2048 MB memory) -> physical GPU (device: 0, name: NVIDIA GeForce GTX 1080, pci bus id: 0000:01:00.0, compute capability: 6.1)\n"
     ]
    }
   ],
   "source": [
    "print(\"Running tensorflow version: {}\".format(tf.keras.__version__))\n",
    "print(\"Running tensorflow.keras version: {}\".format(tf.__version__))\n",
    "print(\"Running keras version: {}\".format(keras.__version__))\n",
    "print(\"Num GPUs Available: \", len(tf.config.experimental.list_physical_devices('GPU')))\n",
    "tf.config.experimental.list_physical_devices('GPU')\n",
    "\n",
    "gpus = tf.config.experimental.list_physical_devices('GPU')\n",
    "if gpus:\n",
    "  # Restrict TensorFlow to only allocate 2GB of memory on the first GPU\n",
    "  try:\n",
    "    tf.config.experimental.set_virtual_device_configuration(\n",
    "        gpus[0],\n",
    "        [tf.config.experimental.VirtualDeviceConfiguration(memory_limit=2048)])\n",
    "    logical_gpus = tf.config.experimental.list_logical_devices('GPU')\n",
    "    print(len(gpus), \"Physical GPUs,\", len(logical_gpus), \"Logical GPUs\")\n",
    "  except RuntimeError as e:\n",
    "    # Virtual devices must be set before GPUs have been initialized\n",
    "    print(e)"
   ]
  },
  {
   "cell_type": "markdown",
   "metadata": {},
   "source": [
    "# Train model"
   ]
  },
  {
   "cell_type": "code",
   "execution_count": 7,
   "metadata": {},
   "outputs": [
    {
     "name": "stderr",
     "output_type": "stream",
     "text": [
      "2022-09-22 19:45:07.166240: I tensorflow/core/profiler/lib/profiler_session.cc:136] Profiler session initializing.\n",
      "2022-09-22 19:45:07.166266: I tensorflow/core/profiler/lib/profiler_session.cc:155] Profiler session started.\n",
      "2022-09-22 19:45:07.166347: I tensorflow/core/profiler/lib/profiler_session.cc:172] Profiler session tear down.\n",
      "2022-09-22 19:45:07.166419: I tensorflow/core/profiler/internal/gpu/cupti_tracer.cc:1487] CUPTI activity buffer flushed\n"
     ]
    },
    {
     "name": "stdout",
     "output_type": "stream",
     "text": [
      "Epoch 1/50\n",
      "    2/14703 [..............................] - ETA: 30:16 - loss: 2.4721 - acc: 0.1641 - f1_m: 0.0545 - precision_m: 0.2232 - recall_m: 0.0312   "
     ]
    },
    {
     "name": "stderr",
     "output_type": "stream",
     "text": [
      "2022-09-22 19:45:10.191677: I tensorflow/core/profiler/lib/profiler_session.cc:136] Profiler session initializing.\n",
      "2022-09-22 19:45:10.191701: I tensorflow/core/profiler/lib/profiler_session.cc:155] Profiler session started.\n"
     ]
    },
    {
     "name": "stdout",
     "output_type": "stream",
     "text": [
      "    5/14703 [..............................] - ETA: 35:08 - loss: 2.4322 - acc: 0.1679 - f1_m: 0.0493 - precision_m: 0.1955 - recall_m: 0.0284  "
     ]
    },
    {
     "name": "stderr",
     "output_type": "stream",
     "text": [
      "2022-09-22 19:45:10.403128: I tensorflow/core/profiler/lib/profiler_session.cc:71] Profiler session collecting data.\n",
      "2022-09-22 19:45:10.405787: I tensorflow/core/profiler/internal/gpu/cupti_tracer.cc:1487] CUPTI activity buffer flushed\n",
      "2022-09-22 19:45:10.415570: I tensorflow/core/profiler/internal/gpu/cupti_collector.cc:228]  GpuTracer has collected 1587 callback api events and 1563 activity events. \n",
      "2022-09-22 19:45:10.449231: I tensorflow/core/profiler/lib/profiler_session.cc:172] Profiler session tear down.\n",
      "2022-09-22 19:45:10.476822: I tensorflow/core/profiler/rpc/client/save_profile.cc:137] Creating directory: ./tb_logs/train/plugins/profile/2022_09_22_19_45_10\n",
      "2022-09-22 19:45:10.496577: I tensorflow/core/profiler/rpc/client/save_profile.cc:143] Dumped gzipped tool data for trace.json.gz to ./tb_logs/train/plugins/profile/2022_09_22_19_45_10/drake-pc.trace.json.gz\n",
      "2022-09-22 19:45:10.550307: I tensorflow/core/profiler/rpc/client/save_profile.cc:137] Creating directory: ./tb_logs/train/plugins/profile/2022_09_22_19_45_10\n",
      "2022-09-22 19:45:10.555286: I tensorflow/core/profiler/rpc/client/save_profile.cc:143] Dumped gzipped tool data for memory_profile.json.gz to ./tb_logs/train/plugins/profile/2022_09_22_19_45_10/drake-pc.memory_profile.json.gz\n",
      "2022-09-22 19:45:10.557692: I tensorflow/core/profiler/rpc/client/capture_profile.cc:251] Creating directory: ./tb_logs/train/plugins/profile/2022_09_22_19_45_10Dumped tool data for xplane.pb to ./tb_logs/train/plugins/profile/2022_09_22_19_45_10/drake-pc.xplane.pb\n",
      "Dumped tool data for overview_page.pb to ./tb_logs/train/plugins/profile/2022_09_22_19_45_10/drake-pc.overview_page.pb\n",
      "Dumped tool data for input_pipeline.pb to ./tb_logs/train/plugins/profile/2022_09_22_19_45_10/drake-pc.input_pipeline.pb\n",
      "Dumped tool data for tensorflow_stats.pb to ./tb_logs/train/plugins/profile/2022_09_22_19_45_10/drake-pc.tensorflow_stats.pb\n",
      "Dumped tool data for kernel_stats.pb to ./tb_logs/train/plugins/profile/2022_09_22_19_45_10/drake-pc.kernel_stats.pb\n",
      "\n"
     ]
    },
    {
     "name": "stdout",
     "output_type": "stream",
     "text": [
      " 1021/14703 [=>............................] - ETA: 8:46 - loss: 1.7289 - acc: 0.3809 - f1_m: 0.2550 - precision_m: 0.5901 - recall_m: 0.1758"
     ]
    },
    {
     "name": "stderr",
     "output_type": "stream",
     "text": [
      "2022-09-22 19:46:00.696122: W tensorflow/core/common_runtime/bfc_allocator.cc:248] Allocator (GPU_0_bfc) ran out of memory trying to allocate 2.27GiB with freed_by_count=0. The caller indicates that this is not a failure, but may mean that there could be performance gains if more memory were available.\n",
      "2022-09-22 19:46:01.025410: W tensorflow/core/common_runtime/bfc_allocator.cc:248] Allocator (GPU_0_bfc) ran out of memory trying to allocate 2.28GiB with freed_by_count=0. The caller indicates that this is not a failure, but may mean that there could be performance gains if more memory were available.\n",
      "2022-09-22 19:46:01.195562: W tensorflow/core/common_runtime/bfc_allocator.cc:248] Allocator (GPU_0_bfc) ran out of memory trying to allocate 2.28GiB with freed_by_count=0. The caller indicates that this is not a failure, but may mean that there could be performance gains if more memory were available.\n",
      "2022-09-22 19:46:01.442499: W tensorflow/core/common_runtime/bfc_allocator.cc:248] Allocator (GPU_0_bfc) ran out of memory trying to allocate 2.27GiB with freed_by_count=0. The caller indicates that this is not a failure, but may mean that there could be performance gains if more memory were available.\n"
     ]
    },
    {
     "name": "stdout",
     "output_type": "stream",
     "text": [
      "14703/14703 [==============================] - 630s 43ms/step - loss: 0.8924 - acc: 0.6864 - f1_m: 0.6561 - precision_m: 0.7980 - recall_m: 0.5825 - val_loss: 2.2231 - val_acc: 0.5096 - val_f1_m: 0.4912 - val_precision_m: 0.5598 - val_recall_m: 0.4392\n",
      "\n",
      "Epoch 00001: val_acc improved from -inf to 0.50964, saving model to /mnt/sda1/resnet-models/resnet50-saved-model-01-val_acc-0.51.hdf5\n",
      "Epoch 2/50\n",
      "14703/14703 [==============================] - 593s 40ms/step - loss: 0.3196 - acc: 0.8876 - f1_m: 0.8878 - precision_m: 0.9125 - recall_m: 0.8652 - val_loss: 0.9786 - val_acc: 0.7326 - val_f1_m: 0.7328 - val_precision_m: 0.7558 - val_recall_m: 0.7118\n",
      "\n",
      "Epoch 00002: val_acc improved from 0.50964 to 0.73256, saving model to /mnt/sda1/resnet-models/resnet50-saved-model-02-val_acc-0.73.hdf5\n",
      "Epoch 3/50\n",
      "14703/14703 [==============================] - 606s 41ms/step - loss: 0.5510 - acc: 0.8061 - f1_m: 0.7971 - precision_m: 0.8695 - recall_m: 0.7492 - val_loss: 0.4987 - val_acc: 0.8318 - val_f1_m: 0.8297 - val_precision_m: 0.8568 - val_recall_m: 0.8051\n",
      "\n",
      "Epoch 00003: val_acc improved from 0.73256 to 0.83184, saving model to /mnt/sda1/resnet-models/resnet50-saved-model-03-val_acc-0.83.hdf5\n",
      "Epoch 4/50\n",
      "14703/14703 [==============================] - 600s 41ms/step - loss: 0.2996 - acc: 0.8930 - f1_m: 0.8932 - precision_m: 0.9159 - recall_m: 0.8724 - val_loss: 0.5728 - val_acc: 0.8419 - val_f1_m: 0.8413 - val_precision_m: 0.8675 - val_recall_m: 0.8174\n",
      "\n",
      "Epoch 00004: val_acc improved from 0.83184 to 0.84188, saving model to /mnt/sda1/resnet-models/resnet50-saved-model-04-val_acc-0.84.hdf5\n",
      "Epoch 5/50\n",
      "14703/14703 [==============================] - 593s 40ms/step - loss: 0.3001 - acc: 0.8929 - f1_m: 0.8925 - precision_m: 0.9161 - recall_m: 0.8717 - val_loss: 0.8354 - val_acc: 0.7277 - val_f1_m: 0.7486 - val_precision_m: 0.8277 - val_recall_m: 0.6854\n",
      "\n",
      "Epoch 00005: val_acc did not improve from 0.84188\n",
      "Epoch 6/50\n",
      "14703/14703 [==============================] - 582s 40ms/step - loss: 0.2409 - acc: 0.9120 - f1_m: 0.9125 - precision_m: 0.9285 - recall_m: 0.8976 - val_loss: 1.0019 - val_acc: 0.7383 - val_f1_m: 0.7444 - val_precision_m: 0.7702 - val_recall_m: 0.7210\n",
      "\n",
      "Epoch 00006: val_acc did not improve from 0.84188\n",
      "Epoch 7/50\n",
      "14703/14703 [==============================] - 592s 40ms/step - loss: 0.2146 - acc: 0.9207 - f1_m: 0.9212 - precision_m: 0.9341 - recall_m: 0.9090 - val_loss: 0.5420 - val_acc: 0.8541 - val_f1_m: 0.8546 - val_precision_m: 0.8709 - val_recall_m: 0.8393\n",
      "\n",
      "Epoch 00007: val_acc improved from 0.84188 to 0.85406, saving model to /mnt/sda1/resnet-models/resnet50-saved-model-07-val_acc-0.85.hdf5\n",
      "Epoch 8/50\n",
      "14703/14703 [==============================] - 584s 40ms/step - loss: 0.2143 - acc: 0.9209 - f1_m: 0.9210 - precision_m: 0.9347 - recall_m: 0.9085 - val_loss: 1.3558 - val_acc: 0.6383 - val_f1_m: 0.6423 - val_precision_m: 0.6754 - val_recall_m: 0.6133\n",
      "\n",
      "Epoch 00008: val_acc did not improve from 0.85406\n",
      "Epoch 9/50\n",
      "14703/14703 [==============================] - 591s 40ms/step - loss: 0.1698 - acc: 0.9361 - f1_m: 0.9362 - precision_m: 0.9464 - recall_m: 0.9266 - val_loss: 0.1584 - val_acc: 0.9421 - val_f1_m: 0.9422 - val_precision_m: 0.9500 - val_recall_m: 0.9348\n",
      "\n",
      "Epoch 00009: val_acc improved from 0.85406 to 0.94214, saving model to /mnt/sda1/resnet-models/resnet50-saved-model-09-val_acc-0.94.hdf5\n",
      "Epoch 10/50\n",
      "14703/14703 [==============================] - 588s 40ms/step - loss: 0.1566 - acc: 0.9402 - f1_m: 0.9406 - precision_m: 0.9496 - recall_m: 0.9321 - val_loss: 0.1786 - val_acc: 0.9354 - val_f1_m: 0.9357 - val_precision_m: 0.9446 - val_recall_m: 0.9273\n",
      "\n",
      "Epoch 00010: val_acc did not improve from 0.94214\n",
      "Epoch 11/50\n",
      "14703/14703 [==============================] - 612s 42ms/step - loss: 0.1510 - acc: 0.9418 - f1_m: 0.9422 - precision_m: 0.9506 - recall_m: 0.9343 - val_loss: 0.1948 - val_acc: 0.9226 - val_f1_m: 0.9230 - val_precision_m: 0.9323 - val_recall_m: 0.9142\n",
      "\n",
      "Epoch 00011: val_acc did not improve from 0.94214\n",
      "Epoch 12/50\n",
      "14703/14703 [==============================] - 657s 45ms/step - loss: 0.1481 - acc: 0.9433 - f1_m: 0.9437 - precision_m: 0.9516 - recall_m: 0.9361 - val_loss: 0.1845 - val_acc: 0.9258 - val_f1_m: 0.9257 - val_precision_m: 0.9329 - val_recall_m: 0.9188\n",
      "\n",
      "Epoch 00012: val_acc did not improve from 0.94214\n",
      "Epoch 13/50\n",
      "14703/14703 [==============================] - 657s 45ms/step - loss: 0.1467 - acc: 0.9438 - f1_m: 0.9440 - precision_m: 0.9518 - recall_m: 0.9366 - val_loss: 0.1519 - val_acc: 0.9438 - val_f1_m: 0.9443 - val_precision_m: 0.9512 - val_recall_m: 0.9377\n",
      "\n",
      "Epoch 00013: val_acc improved from 0.94214 to 0.94375, saving model to /mnt/sda1/resnet-models/resnet50-saved-model-13-val_acc-0.94.hdf5\n",
      "Epoch 14/50\n",
      "14703/14703 [==============================] - 653s 44ms/step - loss: 0.1440 - acc: 0.9444 - f1_m: 0.9449 - precision_m: 0.9523 - recall_m: 0.9379 - val_loss: 0.1447 - val_acc: 0.9462 - val_f1_m: 0.9467 - val_precision_m: 0.9525 - val_recall_m: 0.9412\n",
      "\n",
      "Epoch 00014: val_acc improved from 0.94375 to 0.94615, saving model to /mnt/sda1/resnet-models/resnet50-saved-model-14-val_acc-0.95.hdf5\n",
      "Epoch 15/50\n",
      "14703/14703 [==============================] - 655s 45ms/step - loss: 0.1424 - acc: 0.9452 - f1_m: 0.9454 - precision_m: 0.9522 - recall_m: 0.9389 - val_loss: 0.1453 - val_acc: 0.9468 - val_f1_m: 0.9473 - val_precision_m: 0.9526 - val_recall_m: 0.9422\n",
      "\n",
      "Epoch 00015: val_acc improved from 0.94615 to 0.94676, saving model to /mnt/sda1/resnet-models/resnet50-saved-model-15-val_acc-0.95.hdf5\n",
      "Epoch 16/50\n",
      "14703/14703 [==============================] - 656s 45ms/step - loss: 0.1393 - acc: 0.9463 - f1_m: 0.9465 - precision_m: 0.9534 - recall_m: 0.9400 - val_loss: 0.1435 - val_acc: 0.9470 - val_f1_m: 0.9475 - val_precision_m: 0.9530 - val_recall_m: 0.9423\n",
      "\n",
      "Epoch 00016: val_acc improved from 0.94676 to 0.94703, saving model to /mnt/sda1/resnet-models/resnet50-saved-model-16-val_acc-0.95.hdf5\n",
      "Epoch 17/50\n",
      "14703/14703 [==============================] - 625s 43ms/step - loss: 0.1374 - acc: 0.9467 - f1_m: 0.9469 - precision_m: 0.9538 - recall_m: 0.9404 - val_loss: 0.1382 - val_acc: 0.9478 - val_f1_m: 0.9484 - val_precision_m: 0.9535 - val_recall_m: 0.9434\n",
      "\n",
      "Epoch 00017: val_acc improved from 0.94703 to 0.94784, saving model to /mnt/sda1/resnet-models/resnet50-saved-model-17-val_acc-0.95.hdf5\n",
      "Epoch 18/50\n",
      "14703/14703 [==============================] - 591s 40ms/step - loss: 0.1369 - acc: 0.9470 - f1_m: 0.9474 - precision_m: 0.9543 - recall_m: 0.9409 - val_loss: 0.1401 - val_acc: 0.9479 - val_f1_m: 0.9485 - val_precision_m: 0.9534 - val_recall_m: 0.9439\n",
      "\n",
      "Epoch 00018: val_acc improved from 0.94784 to 0.94791, saving model to /mnt/sda1/resnet-models/resnet50-saved-model-18-val_acc-0.95.hdf5\n",
      "Epoch 19/50\n",
      "14703/14703 [==============================] - 592s 40ms/step - loss: 0.1340 - acc: 0.9480 - f1_m: 0.9484 - precision_m: 0.9549 - recall_m: 0.9422 - val_loss: 0.2334 - val_acc: 0.9214 - val_f1_m: 0.9213 - val_precision_m: 0.9284 - val_recall_m: 0.9144\n",
      "\n",
      "Epoch 00019: val_acc did not improve from 0.94791\n",
      "Epoch 20/50\n",
      " 1639/14703 [==>...........................] - ETA: 8:21 - loss: 0.1320 - acc: 0.9495 - f1_m: 0.9494 - precision_m: 0.9554 - recall_m: 0.9438"
     ]
    },
    {
     "ename": "KeyboardInterrupt",
     "evalue": "",
     "output_type": "error",
     "traceback": [
      "\u001b[0;31m---------------------------------------------------------------------------\u001b[0m",
      "\u001b[0;31mKeyboardInterrupt\u001b[0m                         Traceback (most recent call last)",
      "\u001b[1;32m/home/drake/projects/Fl22/Traffic_Image_Encoding_Research/IGTD/train_resnet_darknet.ipynb Cell 10\u001b[0m in \u001b[0;36m<cell line: 1>\u001b[0;34m()\u001b[0m\n\u001b[1;32m     <a href='vscode-notebook-cell:/home/drake/projects/Fl22/Traffic_Image_Encoding_Research/IGTD/train_resnet_darknet.ipynb#X12sZmlsZQ%3D%3D?line=29'>30</a>\u001b[0m tb_callback \u001b[39m=\u001b[39m tf\u001b[39m.\u001b[39mkeras\u001b[39m.\u001b[39mcallbacks\u001b[39m.\u001b[39mTensorBoard(\u001b[39m'\u001b[39m\u001b[39m./tb_logs\u001b[39m\u001b[39m'\u001b[39m, update_freq\u001b[39m=\u001b[39m\u001b[39m1\u001b[39m)\n\u001b[1;32m     <a href='vscode-notebook-cell:/home/drake/projects/Fl22/Traffic_Image_Encoding_Research/IGTD/train_resnet_darknet.ipynb#X12sZmlsZQ%3D%3D?line=30'>31</a>\u001b[0m callbacklist \u001b[39m=\u001b[39m [resnet_checkpoint,resnet_early_stopping,reduce_lr,tb_callback]\n\u001b[0;32m---> <a href='vscode-notebook-cell:/home/drake/projects/Fl22/Traffic_Image_Encoding_Research/IGTD/train_resnet_darknet.ipynb#X12sZmlsZQ%3D%3D?line=32'>33</a>\u001b[0m resnet50_history \u001b[39m=\u001b[39m resnet50_x_final_model\u001b[39m.\u001b[39;49mfit(train_generator, epochs \u001b[39m=\u001b[39;49m number_of_epochs ,validation_data \u001b[39m=\u001b[39;49m validation_generator,callbacks\u001b[39m=\u001b[39;49mcallbacklist,verbose\u001b[39m=\u001b[39;49m\u001b[39m1\u001b[39;49m)\n",
      "File \u001b[0;32m~/miniconda3/envs/keras_gpu/lib/python3.9/site-packages/tensorflow/python/keras/engine/training.py:1100\u001b[0m, in \u001b[0;36mModel.fit\u001b[0;34m(self, x, y, batch_size, epochs, verbose, callbacks, validation_split, validation_data, shuffle, class_weight, sample_weight, initial_epoch, steps_per_epoch, validation_steps, validation_batch_size, validation_freq, max_queue_size, workers, use_multiprocessing)\u001b[0m\n\u001b[1;32m   1093\u001b[0m \u001b[39mwith\u001b[39;00m trace\u001b[39m.\u001b[39mTrace(\n\u001b[1;32m   1094\u001b[0m     \u001b[39m'\u001b[39m\u001b[39mtrain\u001b[39m\u001b[39m'\u001b[39m,\n\u001b[1;32m   1095\u001b[0m     epoch_num\u001b[39m=\u001b[39mepoch,\n\u001b[1;32m   1096\u001b[0m     step_num\u001b[39m=\u001b[39mstep,\n\u001b[1;32m   1097\u001b[0m     batch_size\u001b[39m=\u001b[39mbatch_size,\n\u001b[1;32m   1098\u001b[0m     _r\u001b[39m=\u001b[39m\u001b[39m1\u001b[39m):\n\u001b[1;32m   1099\u001b[0m   callbacks\u001b[39m.\u001b[39mon_train_batch_begin(step)\n\u001b[0;32m-> 1100\u001b[0m   tmp_logs \u001b[39m=\u001b[39m \u001b[39mself\u001b[39;49m\u001b[39m.\u001b[39;49mtrain_function(iterator)\n\u001b[1;32m   1101\u001b[0m   \u001b[39mif\u001b[39;00m data_handler\u001b[39m.\u001b[39mshould_sync:\n\u001b[1;32m   1102\u001b[0m     context\u001b[39m.\u001b[39masync_wait()\n",
      "File \u001b[0;32m~/miniconda3/envs/keras_gpu/lib/python3.9/site-packages/tensorflow/python/eager/def_function.py:828\u001b[0m, in \u001b[0;36mFunction.__call__\u001b[0;34m(self, *args, **kwds)\u001b[0m\n\u001b[1;32m    826\u001b[0m tracing_count \u001b[39m=\u001b[39m \u001b[39mself\u001b[39m\u001b[39m.\u001b[39mexperimental_get_tracing_count()\n\u001b[1;32m    827\u001b[0m \u001b[39mwith\u001b[39;00m trace\u001b[39m.\u001b[39mTrace(\u001b[39mself\u001b[39m\u001b[39m.\u001b[39m_name) \u001b[39mas\u001b[39;00m tm:\n\u001b[0;32m--> 828\u001b[0m   result \u001b[39m=\u001b[39m \u001b[39mself\u001b[39;49m\u001b[39m.\u001b[39;49m_call(\u001b[39m*\u001b[39;49margs, \u001b[39m*\u001b[39;49m\u001b[39m*\u001b[39;49mkwds)\n\u001b[1;32m    829\u001b[0m   compiler \u001b[39m=\u001b[39m \u001b[39m\"\u001b[39m\u001b[39mxla\u001b[39m\u001b[39m\"\u001b[39m \u001b[39mif\u001b[39;00m \u001b[39mself\u001b[39m\u001b[39m.\u001b[39m_experimental_compile \u001b[39melse\u001b[39;00m \u001b[39m\"\u001b[39m\u001b[39mnonXla\u001b[39m\u001b[39m\"\u001b[39m\n\u001b[1;32m    830\u001b[0m   new_tracing_count \u001b[39m=\u001b[39m \u001b[39mself\u001b[39m\u001b[39m.\u001b[39mexperimental_get_tracing_count()\n",
      "File \u001b[0;32m~/miniconda3/envs/keras_gpu/lib/python3.9/site-packages/tensorflow/python/eager/def_function.py:855\u001b[0m, in \u001b[0;36mFunction._call\u001b[0;34m(self, *args, **kwds)\u001b[0m\n\u001b[1;32m    852\u001b[0m   \u001b[39mself\u001b[39m\u001b[39m.\u001b[39m_lock\u001b[39m.\u001b[39mrelease()\n\u001b[1;32m    853\u001b[0m   \u001b[39m# In this case we have created variables on the first call, so we run the\u001b[39;00m\n\u001b[1;32m    854\u001b[0m   \u001b[39m# defunned version which is guaranteed to never create variables.\u001b[39;00m\n\u001b[0;32m--> 855\u001b[0m   \u001b[39mreturn\u001b[39;00m \u001b[39mself\u001b[39;49m\u001b[39m.\u001b[39;49m_stateless_fn(\u001b[39m*\u001b[39;49margs, \u001b[39m*\u001b[39;49m\u001b[39m*\u001b[39;49mkwds)  \u001b[39m# pylint: disable=not-callable\u001b[39;00m\n\u001b[1;32m    856\u001b[0m \u001b[39melif\u001b[39;00m \u001b[39mself\u001b[39m\u001b[39m.\u001b[39m_stateful_fn \u001b[39mis\u001b[39;00m \u001b[39mnot\u001b[39;00m \u001b[39mNone\u001b[39;00m:\n\u001b[1;32m    857\u001b[0m   \u001b[39m# Release the lock early so that multiple threads can perform the call\u001b[39;00m\n\u001b[1;32m    858\u001b[0m   \u001b[39m# in parallel.\u001b[39;00m\n\u001b[1;32m    859\u001b[0m   \u001b[39mself\u001b[39m\u001b[39m.\u001b[39m_lock\u001b[39m.\u001b[39mrelease()\n",
      "File \u001b[0;32m~/miniconda3/envs/keras_gpu/lib/python3.9/site-packages/tensorflow/python/eager/function.py:2942\u001b[0m, in \u001b[0;36mFunction.__call__\u001b[0;34m(self, *args, **kwargs)\u001b[0m\n\u001b[1;32m   2939\u001b[0m \u001b[39mwith\u001b[39;00m \u001b[39mself\u001b[39m\u001b[39m.\u001b[39m_lock:\n\u001b[1;32m   2940\u001b[0m   (graph_function,\n\u001b[1;32m   2941\u001b[0m    filtered_flat_args) \u001b[39m=\u001b[39m \u001b[39mself\u001b[39m\u001b[39m.\u001b[39m_maybe_define_function(args, kwargs)\n\u001b[0;32m-> 2942\u001b[0m \u001b[39mreturn\u001b[39;00m graph_function\u001b[39m.\u001b[39;49m_call_flat(\n\u001b[1;32m   2943\u001b[0m     filtered_flat_args, captured_inputs\u001b[39m=\u001b[39;49mgraph_function\u001b[39m.\u001b[39;49mcaptured_inputs)\n",
      "File \u001b[0;32m~/miniconda3/envs/keras_gpu/lib/python3.9/site-packages/tensorflow/python/eager/function.py:1918\u001b[0m, in \u001b[0;36mConcreteFunction._call_flat\u001b[0;34m(self, args, captured_inputs, cancellation_manager)\u001b[0m\n\u001b[1;32m   1914\u001b[0m possible_gradient_type \u001b[39m=\u001b[39m gradients_util\u001b[39m.\u001b[39mPossibleTapeGradientTypes(args)\n\u001b[1;32m   1915\u001b[0m \u001b[39mif\u001b[39;00m (possible_gradient_type \u001b[39m==\u001b[39m gradients_util\u001b[39m.\u001b[39mPOSSIBLE_GRADIENT_TYPES_NONE\n\u001b[1;32m   1916\u001b[0m     \u001b[39mand\u001b[39;00m executing_eagerly):\n\u001b[1;32m   1917\u001b[0m   \u001b[39m# No tape is watching; skip to running the function.\u001b[39;00m\n\u001b[0;32m-> 1918\u001b[0m   \u001b[39mreturn\u001b[39;00m \u001b[39mself\u001b[39m\u001b[39m.\u001b[39m_build_call_outputs(\u001b[39mself\u001b[39;49m\u001b[39m.\u001b[39;49m_inference_function\u001b[39m.\u001b[39;49mcall(\n\u001b[1;32m   1919\u001b[0m       ctx, args, cancellation_manager\u001b[39m=\u001b[39;49mcancellation_manager))\n\u001b[1;32m   1920\u001b[0m forward_backward \u001b[39m=\u001b[39m \u001b[39mself\u001b[39m\u001b[39m.\u001b[39m_select_forward_and_backward_functions(\n\u001b[1;32m   1921\u001b[0m     args,\n\u001b[1;32m   1922\u001b[0m     possible_gradient_type,\n\u001b[1;32m   1923\u001b[0m     executing_eagerly)\n\u001b[1;32m   1924\u001b[0m forward_function, args_with_tangents \u001b[39m=\u001b[39m forward_backward\u001b[39m.\u001b[39mforward()\n",
      "File \u001b[0;32m~/miniconda3/envs/keras_gpu/lib/python3.9/site-packages/tensorflow/python/eager/function.py:555\u001b[0m, in \u001b[0;36m_EagerDefinedFunction.call\u001b[0;34m(self, ctx, args, cancellation_manager)\u001b[0m\n\u001b[1;32m    553\u001b[0m \u001b[39mwith\u001b[39;00m _InterpolateFunctionError(\u001b[39mself\u001b[39m):\n\u001b[1;32m    554\u001b[0m   \u001b[39mif\u001b[39;00m cancellation_manager \u001b[39mis\u001b[39;00m \u001b[39mNone\u001b[39;00m:\n\u001b[0;32m--> 555\u001b[0m     outputs \u001b[39m=\u001b[39m execute\u001b[39m.\u001b[39;49mexecute(\n\u001b[1;32m    556\u001b[0m         \u001b[39mstr\u001b[39;49m(\u001b[39mself\u001b[39;49m\u001b[39m.\u001b[39;49msignature\u001b[39m.\u001b[39;49mname),\n\u001b[1;32m    557\u001b[0m         num_outputs\u001b[39m=\u001b[39;49m\u001b[39mself\u001b[39;49m\u001b[39m.\u001b[39;49m_num_outputs,\n\u001b[1;32m    558\u001b[0m         inputs\u001b[39m=\u001b[39;49margs,\n\u001b[1;32m    559\u001b[0m         attrs\u001b[39m=\u001b[39;49mattrs,\n\u001b[1;32m    560\u001b[0m         ctx\u001b[39m=\u001b[39;49mctx)\n\u001b[1;32m    561\u001b[0m   \u001b[39melse\u001b[39;00m:\n\u001b[1;32m    562\u001b[0m     outputs \u001b[39m=\u001b[39m execute\u001b[39m.\u001b[39mexecute_with_cancellation(\n\u001b[1;32m    563\u001b[0m         \u001b[39mstr\u001b[39m(\u001b[39mself\u001b[39m\u001b[39m.\u001b[39msignature\u001b[39m.\u001b[39mname),\n\u001b[1;32m    564\u001b[0m         num_outputs\u001b[39m=\u001b[39m\u001b[39mself\u001b[39m\u001b[39m.\u001b[39m_num_outputs,\n\u001b[0;32m   (...)\u001b[0m\n\u001b[1;32m    567\u001b[0m         ctx\u001b[39m=\u001b[39mctx,\n\u001b[1;32m    568\u001b[0m         cancellation_manager\u001b[39m=\u001b[39mcancellation_manager)\n",
      "File \u001b[0;32m~/miniconda3/envs/keras_gpu/lib/python3.9/site-packages/tensorflow/python/eager/execute.py:59\u001b[0m, in \u001b[0;36mquick_execute\u001b[0;34m(op_name, num_outputs, inputs, attrs, ctx, name)\u001b[0m\n\u001b[1;32m     57\u001b[0m \u001b[39mtry\u001b[39;00m:\n\u001b[1;32m     58\u001b[0m   ctx\u001b[39m.\u001b[39mensure_initialized()\n\u001b[0;32m---> 59\u001b[0m   tensors \u001b[39m=\u001b[39m pywrap_tfe\u001b[39m.\u001b[39;49mTFE_Py_Execute(ctx\u001b[39m.\u001b[39;49m_handle, device_name, op_name,\n\u001b[1;32m     60\u001b[0m                                       inputs, attrs, num_outputs)\n\u001b[1;32m     61\u001b[0m \u001b[39mexcept\u001b[39;00m core\u001b[39m.\u001b[39m_NotOkStatusException \u001b[39mas\u001b[39;00m e:\n\u001b[1;32m     62\u001b[0m   \u001b[39mif\u001b[39;00m name \u001b[39mis\u001b[39;00m \u001b[39mnot\u001b[39;00m \u001b[39mNone\u001b[39;00m:\n",
      "\u001b[0;31mKeyboardInterrupt\u001b[0m: "
     ]
    }
   ],
   "source": [
    "with tf.device(tf.DeviceSpec(device_type=\"GPU\", device_index='0')):\n",
    "    # Grab pretrained model, include_top removes the classification layer\n",
    "    ResNet50_model = tf.keras.applications.ResNet50V2(weights='imagenet', include_top=False, classes=num_classes, input_shape=(img_size,img_size,3))\n",
    "    \n",
    "    # Resnet wants a three chanel input, but we have grayscale images\n",
    "    #input_tensor = Input(shape=(img_size,img_size,1))\n",
    "    # x has a dimension of (IMG_SIZE,IMG_SIZE,3)\n",
    "    #x = Conv2D(3,target_size,padding='same')(input_tensor) \n",
    "    # Prepend the Resnet model with the input tensor\n",
    "    #out = original_ResNet50_model(x) \n",
    "    #ResNet50_model = Model(inputs=input_tensor,outputs=out)\n",
    "    \n",
    "    # Layers are frozen by default, performance seems to tank if we freeze them\n",
    "    for layer in ResNet50_model.layers:\n",
    "        layer.trainable = True\n",
    "    \n",
    "    # Creating fully connected layer for learning\n",
    "    resnet50_x = tf.keras.layers.Flatten()(ResNet50_model.output)\n",
    "    resnet50_x = tf.keras.layers.Dense(512,activation='relu')(resnet50_x)\n",
    "    resnet50_x = tf.keras.layers.Dense(num_classes,activation='softmax')(resnet50_x)\n",
    "    resnet50_x_final_model = tf.keras.Model(inputs=ResNet50_model.input, outputs=resnet50_x)\n",
    "    \n",
    "    #opt = tf.keras.optimizers.Adam(lr=0.01)\n",
    "    opt = tf.keras.optimizers.SGD(lr=0.01,momentum=0.7)\n",
    "    resnet50_x_final_model.compile(loss = 'categorical_crossentropy', optimizer= opt, metrics=['acc',f1_m,precision_m, recall_m])\n",
    "    resnet_filepath = '/mnt/sda1/resnet-models/resnet50'+'-saved-model-{epoch:02d}-val_acc-{val_acc:.2f}.hdf5'\n",
    "    resnet_checkpoint = tf.keras.callbacks.ModelCheckpoint(resnet_filepath, monitor='val_acc', verbose=1, save_best_only=True, mode='max')\n",
    "    resnet_early_stopping = tf.keras.callbacks.EarlyStopping(monitor='loss', patience=5)\n",
    "    reduce_lr = tf.keras.callbacks.ReduceLROnPlateau(monitor='val_loss', factor=0.05, patience=5, min_lr=0.000002)\n",
    "    tb_callback = tf.keras.callbacks.TensorBoard('./tb_logs', update_freq=1)\n",
    "    callbacklist = [resnet_checkpoint,resnet_early_stopping,reduce_lr,tb_callback]\n",
    "\n",
    "    resnet50_history = resnet50_x_final_model.fit(train_generator, epochs = number_of_epochs ,validation_data = validation_generator,callbacks=callbacklist,verbose=1)\n"
   ]
  },
  {
   "cell_type": "code",
   "execution_count": null,
   "metadata": {},
   "outputs": [],
   "source": []
  }
 ],
 "metadata": {
  "kernelspec": {
   "display_name": "Python 3",
   "language": "python",
   "name": "python3"
  },
  "language_info": {
   "codemirror_mode": {
    "name": "ipython",
    "version": 3
   },
   "file_extension": ".py",
   "mimetype": "text/x-python",
   "name": "python",
   "nbconvert_exporter": "python",
   "pygments_lexer": "ipython3",
   "version": "3.9.13"
  },
  "vscode": {
   "interpreter": {
    "hash": "01b43af51fd77f9f473dc8138d7466027ddf88d382b9cdd9bb3068aee8377522"
   }
  }
 },
 "nbformat": 4,
 "nbformat_minor": 2
}
