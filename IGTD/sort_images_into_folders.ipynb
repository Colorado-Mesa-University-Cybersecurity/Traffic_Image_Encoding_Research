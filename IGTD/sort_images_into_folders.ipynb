{
 "cells": [
  {
   "cell_type": "code",
   "execution_count": 1,
   "metadata": {},
   "outputs": [],
   "source": [
    "import os\n",
    "import shutil\n",
    "import random\n",
    "dirs = ['DNS', 'LDAP', 'MSSQL', 'NetBIOS', 'NTP','Portmap', 'SNMP', 'SSDP', 'Syn', 'TFTP','UDP','UDPLag', 'BENIGN']\n",
    "original_location = \"/mnt/sda1/image_results-small/data/\"\n",
    "new_location = \"/mnt/sda1/image_results-small/\""
   ]
  },
  {
   "cell_type": "markdown",
   "metadata": {},
   "source": [
    "# Create Subdirectories"
   ]
  },
  {
   "cell_type": "code",
   "execution_count": 2,
   "metadata": {},
   "outputs": [],
   "source": [
    "for i in dirs:\n",
    "    os.mkdir(new_location+\"Train/\"+i)\n",
    "    os.mkdir(new_location+\"Validation/\"+i)"
   ]
  },
  {
   "cell_type": "markdown",
   "metadata": {},
   "source": [
    "# Sort images into subdirectories"
   ]
  },
  {
   "cell_type": "code",
   "execution_count": 3,
   "metadata": {},
   "outputs": [
    {
     "name": "stdout",
     "output_type": "stream",
     "text": [
      "636395\n",
      "{'DNS': 64144, 'LDAP': 24127, 'MSSQL': 63117, 'NetBIOS': 14176, 'NTP': 69133, 'Portmap': 818, 'SNMP': 49164, 'SSDP': 68977, 'Syn': 68832, 'TFTP': 69664, 'UDP': 131655, 'UDPLag': 0, 'BENIGN': 12588}\n"
     ]
    }
   ],
   "source": [
    "train = 0\n",
    "i = 0\n",
    "app_type_counts = {'DNS' : 0, 'LDAP': 0, 'MSSQL': 0, 'NetBIOS': 0, 'NTP': 0,'Portmap': 0, 'SNMP': 0, 'SSDP': 0, 'Syn': 0, 'TFTP':0,'UDP':0,'UDPLag':0,'BENIGN':0}\n",
    "for file in os.listdir(original_location):\n",
    "    try:\n",
    "        dir = file.split(\"_\")[1].split(\"-\")[1]\n",
    "    except:\n",
    "        continue\n",
    "    if dir == 'WebDDoS': continue\n",
    "    app_type_counts[dir]+=1\n",
    "    shutil.move(original_location+file, new_location + \"Train/\"+dir+\"/\"+file)\n",
    "    train += 1\n",
    "print(train)\n",
    "print(app_type_counts)"
   ]
  },
  {
   "cell_type": "markdown",
   "metadata": {},
   "source": [
    "# Fix UDPLag and UDP conflict"
   ]
  },
  {
   "cell_type": "code",
   "execution_count": 7,
   "metadata": {},
   "outputs": [],
   "source": [
    "for file in os.listdir(new_location+\"Train/UDP\"):\n",
    "    if 'UDP-lag' in file:\n",
    "        shutil.move(new_location+\"Train/UDP/\"+file, new_location+\"Train/UDPLag/\"+file)"
   ]
  },
  {
   "cell_type": "markdown",
   "metadata": {},
   "source": [
    "# Move x images to the validation dataset"
   ]
  },
  {
   "cell_type": "code",
   "execution_count": 8,
   "metadata": {},
   "outputs": [],
   "source": [
    "dirs = ['DNS', 'LDAP', 'MSSQL', 'NetBIOS', 'NTP','Portmap', 'SNMP', 'SSDP', 'Syn', 'TFTP','UDP','UDPLag']\n",
    "for dir in dirs:\n",
    "    i = 0\n",
    "    for file in os.listdir(new_location+\"Train/\"+dir):\n",
    "        if i >= 5000:\n",
    "            break\n",
    "        i += 1\n",
    "        shutil.move(new_location+\"Train/\"+dir+\"/\"+file, new_location+\"Validation/\"+dir+\"/\"+file)"
   ]
  },
  {
   "cell_type": "code",
   "execution_count": null,
   "metadata": {},
   "outputs": [],
   "source": []
  }
 ],
 "metadata": {
  "kernelspec": {
   "display_name": "Python 3.9.4 ('jack')",
   "language": "python",
   "name": "python3"
  },
  "language_info": {
   "codemirror_mode": {
    "name": "ipython",
    "version": 3
   },
   "file_extension": ".py",
   "mimetype": "text/x-python",
   "name": "python",
   "nbconvert_exporter": "python",
   "pygments_lexer": "ipython3",
   "version": "3.9.4"
  },
  "orig_nbformat": 4,
  "vscode": {
   "interpreter": {
    "hash": "d08ee07128ff7e29df15b616a060e529d41458a405bd41b897584cea94eeeac3"
   }
  }
 },
 "nbformat": 4,
 "nbformat_minor": 2
}
