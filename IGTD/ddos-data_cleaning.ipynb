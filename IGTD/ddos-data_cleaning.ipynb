{
 "cells": [
  {
   "cell_type": "markdown",
   "metadata": {},
   "source": [
    "# DDoS Dataset Cleaning"
   ]
  },
  {
   "cell_type": "code",
   "execution_count": 1,
   "metadata": {},
   "outputs": [],
   "source": [
    "import pandas as pd\n",
    "import os\n",
    "import numpy as np"
   ]
  },
  {
   "cell_type": "code",
   "execution_count": null,
   "metadata": {},
   "outputs": [],
   "source": [
    "df1 = pd.read_csv('/mnt/sda1/ddos-data/01-12/DrDoS_DNS.csv', low_memory=True)\n",
    "df2 = pd.read_csv('/mnt/sda1/ddos-data/01-12/DrDoS_LDAP.csv', low_memory=True)\n",
    "df3 = pd.read_csv('/mnt/sda1/ddos-data/01-12/DrDoS_MSSQL.csv', low_memory=True)\n",
    "df4 = pd.read_csv('/mnt/sda1/ddos-data/01-12/DrDoS_NTP.csv', low_memory=True)\n",
    "df5 = pd.read_csv('/mnt/sda1/ddos-data/01-12/DrDoS_NetBIOS.csv', low_memory=True)\n",
    "df6 = pd.read_csv('/mnt/sda1/ddos-data/01-12/DrDoS_SNMP.csv', low_memory=True)\n",
    "df7 = pd.read_csv('/mnt/sda1/ddos-data/01-12/DrDoS_SSDP.csv', low_memory=True)\n",
    "df8 = pd.read_csv('/mnt/sda1/ddos-data/01-12/DrDoS_UDP.csv', low_memory=True)\n",
    "df9 = pd.read_csv('/mnt/sda1/ddos-data/01-12/Syn.csv', low_memory=True)\n",
    "df10 = pd.read_csv('/mnt/sda1/ddos-data/01-12/TFTP.csv', low_memory=True, nrows=7000000)\n",
    "df11 = pd.read_csv('/mnt/sda1/ddos-data/01-12/UDPLag.csv', low_memory=True, nrows=7000000)\n",
    "df12 = pd.read_csv('/mnt/sda1/ddos-data/01-12/Portmap.csv', low_memory=True, nrows=20000000)"
   ]
  },
  {
   "cell_type": "code",
   "execution_count": null,
   "metadata": {},
   "outputs": [],
   "source": [
    "dfs = [df1, df2, df3, df4, df5, df6, df7, df8, df9, df10, df11, df12]\n",
    "for df in dfs:\n",
    "    print(df.shape)\n",
    "    "
   ]
  },
  {
   "cell_type": "markdown",
   "metadata": {},
   "source": [
    "# Drop overfit/zero value columns"
   ]
  },
  {
   "cell_type": "code",
   "execution_count": null,
   "metadata": {},
   "outputs": [],
   "source": [
    "drop_list = ['Unnamed: 0',' Timestamp', 'Flow ID', ' Source IP', ' Source Port', ' Destination IP', ' Destination Port']\n",
    "i = 0\n",
    "for df in dfs:\n",
    "    dfs[i].drop(drop_list,axis=1,inplace=True)\n",
    "    i += 1"
   ]
  },
  {
   "cell_type": "markdown",
   "metadata": {},
   "source": [
    "# Remove duplicate values ignoring the Label column"
   ]
  },
  {
   "cell_type": "code",
   "execution_count": null,
   "metadata": {},
   "outputs": [],
   "source": [
    "i = 0\n",
    "for df in dfs:\n",
    "    dfs[i].drop_duplicates(subset=df.columns.difference([' Label']),inplace=True)\n",
    "    dfs[i] = dfs[i].sample(min(df.shape[0], 70000))\n",
    "    i += 1"
   ]
  },
  {
   "cell_type": "markdown",
   "metadata": {},
   "source": [
    "# Rename the Index using tha lebel names"
   ]
  },
  {
   "cell_type": "code",
   "execution_count": null,
   "metadata": {},
   "outputs": [],
   "source": [
    "i = 0\n",
    "for df in dfs:\n",
    "    labels = []\n",
    "    j = 0\n",
    "    for index, row in df.iterrows():\n",
    "        name = row[' Label']\n",
    "        if '_' in name:\n",
    "            name = name.split('_')[1]\n",
    "        labels.append(str(j) + \"-\" + name)\n",
    "        j += 1\n",
    "    dfs[i]['Index'] = labels\n",
    "    i += 1"
   ]
  },
  {
   "cell_type": "code",
   "execution_count": null,
   "metadata": {},
   "outputs": [],
   "source": [
    "out = pd.concat(dfs)\n",
    "out.to_csv('/mnt/sda1/ddos-data/01-12/all-cleaned.csv')"
   ]
  },
  {
   "cell_type": "markdown",
   "metadata": {},
   "source": [
    "# Phase two cleaning"
   ]
  },
  {
   "cell_type": "code",
   "execution_count": null,
   "metadata": {},
   "outputs": [],
   "source": [
    "final_df = pd.read_csv('/mnt/sda1/ddos-data/01-12/all-cleaned.csv', low_memory=True, index_col='Index')"
   ]
  },
  {
   "cell_type": "code",
   "execution_count": null,
   "metadata": {},
   "outputs": [],
   "source": [
    "final_df.drop([' Label'],axis=1,inplace=True)\n",
    "final_df['Zeros'] = 0\n",
    "final_df.drop_duplicates(inplace=True)"
   ]
  },
  {
   "cell_type": "code",
   "execution_count": null,
   "metadata": {},
   "outputs": [],
   "source": [
    "final_df.replace([np.inf, -np.inf], np.nan, inplace=True)\n",
    "final_df = final_df.apply(pd.to_numeric, errors='coerce')"
   ]
  },
  {
   "cell_type": "code",
   "execution_count": null,
   "metadata": {},
   "outputs": [],
   "source": [
    "final_df.to_csv('/mnt/sda1/ddos-data/01-12/all-cleaned.csv')"
   ]
  }
 ],
 "metadata": {
  "kernelspec": {
   "display_name": "Python 3.7.13 ('IGTD')",
   "language": "python",
   "name": "python3"
  },
  "language_info": {
   "codemirror_mode": {
    "name": "ipython",
    "version": 3
   },
   "file_extension": ".py",
   "mimetype": "text/x-python",
   "name": "python",
   "nbconvert_exporter": "python",
   "pygments_lexer": "ipython3",
   "version": "3.7.13"
  },
  "orig_nbformat": 4,
  "vscode": {
   "interpreter": {
    "hash": "744383ab79abc3cffadb596699d92decdb10ed512e6302579c9c990a3a1fd9b7"
   }
  }
 },
 "nbformat": 4,
 "nbformat_minor": 2
}
